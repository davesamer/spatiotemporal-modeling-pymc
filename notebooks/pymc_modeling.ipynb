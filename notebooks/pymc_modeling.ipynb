{
 "cells": [
  {
   "cell_type": "code",
   "execution_count": 1,
   "metadata": {},
   "outputs": [],
   "source": [
    "%load_ext autoreload\n",
    "%autoreload 2"
   ]
  },
  {
   "cell_type": "code",
   "execution_count": 2,
   "metadata": {},
   "outputs": [],
   "source": [
    "import sys\n",
    "import pandas as pd\n",
    "import pymc as pm\n",
    "import numpy as np\n",
    "import arviz as az\n",
    "sys.path.append(\"../src/\")\n",
    "from models import create_blr_full_pooling, create_blr_no_pooling, create_blr_partial_pooling, create_blr_partial_pooling_gp\n",
    "import matplotlib.pyplot as plt\n",
    "\n",
    "from sklearn.ensemble import RandomForestRegressor\n",
    "from sklearn.model_selection import train_test_split\n",
    "from sklearn.metrics import mean_absolute_error, mean_squared_error\n",
    "from sklearn.preprocessing import StandardScaler"
   ]
  },
  {
   "cell_type": "code",
   "execution_count": 3,
   "metadata": {},
   "outputs": [
    {
     "name": "stdout",
     "output_type": "stream",
     "text": [
      "<class 'pandas.core.frame.DataFrame'>\n",
      "Int64Index: 100 entries, 3400 to 6340\n",
      "Data columns (total 9 columns):\n",
      " #   Column      Non-Null Count  Dtype  \n",
      "---  ------      --------------  -----  \n",
      " 0   MedInc      100 non-null    float64\n",
      " 1   HouseAge    100 non-null    float64\n",
      " 2   AveRooms    100 non-null    float64\n",
      " 3   AveBedrms   100 non-null    float64\n",
      " 4   Population  100 non-null    float64\n",
      " 5   AveOccup    100 non-null    float64\n",
      " 6   county_lon  100 non-null    float64\n",
      " 7   county_lat  100 non-null    float64\n",
      " 8   county_nr   100 non-null    int32  \n",
      "dtypes: float64(8), int32(1)\n",
      "memory usage: 7.4 KB\n"
     ]
    }
   ],
   "source": [
    "from sklearn.preprocessing import LabelEncoder\n",
    "\n",
    "# Load preprocessed data\n",
    "data = pd.read_csv(\"../data/california_housing_pre.csv\")\n",
    "data.dropna(inplace=True)\n",
    "data = data.sample(100)\n",
    "y = data.pop(\"median_house_value\")\n",
    "\n",
    "# Convert \"county\" column to integer\n",
    "label_encoder = LabelEncoder()\n",
    "data[\"county_nr\"] = label_encoder.fit_transform(data[\"county\"])\n",
    "\n",
    "data = data.loc[:, [\"MedInc\", \"HouseAge\", \"AveRooms\", \"AveBedrms\", \"Population\", \"AveOccup\", \"county_lon\", \"county_lat\", \"county_nr\"]]\n",
    "\n",
    "data.info()\n"
   ]
  },
  {
   "cell_type": "code",
   "execution_count": 4,
   "metadata": {},
   "outputs": [
    {
     "data": {
      "text/html": [
       "<div>\n",
       "<style scoped>\n",
       "    .dataframe tbody tr th:only-of-type {\n",
       "        vertical-align: middle;\n",
       "    }\n",
       "\n",
       "    .dataframe tbody tr th {\n",
       "        vertical-align: top;\n",
       "    }\n",
       "\n",
       "    .dataframe thead th {\n",
       "        text-align: right;\n",
       "    }\n",
       "</style>\n",
       "<table border=\"1\" class=\"dataframe\">\n",
       "  <thead>\n",
       "    <tr style=\"text-align: right;\">\n",
       "      <th></th>\n",
       "      <th>MedInc</th>\n",
       "      <th>HouseAge</th>\n",
       "      <th>AveRooms</th>\n",
       "      <th>AveBedrms</th>\n",
       "      <th>Population</th>\n",
       "      <th>AveOccup</th>\n",
       "      <th>county_lon</th>\n",
       "      <th>county_lat</th>\n",
       "      <th>county_nr</th>\n",
       "    </tr>\n",
       "  </thead>\n",
       "  <tbody>\n",
       "    <tr>\n",
       "      <th>3400</th>\n",
       "      <td>4.6944</td>\n",
       "      <td>30.0</td>\n",
       "      <td>6.030019</td>\n",
       "      <td>0.962477</td>\n",
       "      <td>1700.0</td>\n",
       "      <td>3.189493</td>\n",
       "      <td>-118.418613</td>\n",
       "      <td>34.251168</td>\n",
       "      <td>31</td>\n",
       "    </tr>\n",
       "    <tr>\n",
       "      <th>4553</th>\n",
       "      <td>1.1979</td>\n",
       "      <td>33.0</td>\n",
       "      <td>2.020725</td>\n",
       "      <td>1.031088</td>\n",
       "      <td>435.0</td>\n",
       "      <td>2.253886</td>\n",
       "      <td>-118.359326</td>\n",
       "      <td>33.993978</td>\n",
       "      <td>19</td>\n",
       "    </tr>\n",
       "    <tr>\n",
       "      <th>5726</th>\n",
       "      <td>4.9297</td>\n",
       "      <td>31.0</td>\n",
       "      <td>5.309255</td>\n",
       "      <td>1.038375</td>\n",
       "      <td>1895.0</td>\n",
       "      <td>2.138826</td>\n",
       "      <td>-118.418613</td>\n",
       "      <td>34.251168</td>\n",
       "      <td>31</td>\n",
       "    </tr>\n",
       "    <tr>\n",
       "      <th>11202</th>\n",
       "      <td>1.5903</td>\n",
       "      <td>16.0</td>\n",
       "      <td>3.690763</td>\n",
       "      <td>1.016064</td>\n",
       "      <td>912.0</td>\n",
       "      <td>3.662651</td>\n",
       "      <td>-117.859134</td>\n",
       "      <td>33.828326</td>\n",
       "      <td>1</td>\n",
       "    </tr>\n",
       "    <tr>\n",
       "      <th>14119</th>\n",
       "      <td>1.6034</td>\n",
       "      <td>30.0</td>\n",
       "      <td>3.851927</td>\n",
       "      <td>1.107505</td>\n",
       "      <td>1620.0</td>\n",
       "      <td>3.286004</td>\n",
       "      <td>-117.102163</td>\n",
       "      <td>32.823399</td>\n",
       "      <td>30</td>\n",
       "    </tr>\n",
       "  </tbody>\n",
       "</table>\n",
       "</div>"
      ],
      "text/plain": [
       "       MedInc  HouseAge  AveRooms  AveBedrms  Population  AveOccup  \\\n",
       "3400   4.6944      30.0  6.030019   0.962477      1700.0  3.189493   \n",
       "4553   1.1979      33.0  2.020725   1.031088       435.0  2.253886   \n",
       "5726   4.9297      31.0  5.309255   1.038375      1895.0  2.138826   \n",
       "11202  1.5903      16.0  3.690763   1.016064       912.0  3.662651   \n",
       "14119  1.6034      30.0  3.851927   1.107505      1620.0  3.286004   \n",
       "\n",
       "       county_lon  county_lat  county_nr  \n",
       "3400  -118.418613   34.251168         31  \n",
       "4553  -118.359326   33.993978         19  \n",
       "5726  -118.418613   34.251168         31  \n",
       "11202 -117.859134   33.828326          1  \n",
       "14119 -117.102163   32.823399         30  "
      ]
     },
     "execution_count": 4,
     "metadata": {},
     "output_type": "execute_result"
    }
   ],
   "source": [
    "# split into train and test data\n",
    "x_train, x_test, y_train, y_test = train_test_split(data, y, random_state=0, test_size=0.3)\n",
    "data.head()"
   ]
  },
  {
   "cell_type": "code",
   "execution_count": null,
   "metadata": {},
   "outputs": [],
   "source": []
  },
  {
   "cell_type": "markdown",
   "metadata": {},
   "source": [
    "### Random Forest Baseline"
   ]
  },
  {
   "cell_type": "code",
   "execution_count": 5,
   "metadata": {},
   "outputs": [
    {
     "name": "stdout",
     "output_type": "stream",
     "text": [
      "MAE: 0.5797302666666666\n",
      "MSE: 0.5435027443227252\n"
     ]
    }
   ],
   "source": [
    "rfr = RandomForestRegressor()\n",
    "rfr.fit(x_train, y_train)\n",
    "y_pred = rfr.predict(x_test)\n",
    "print(\"MAE:\", mean_absolute_error(y_test, y_pred))\n",
    "print(\"MSE:\", mean_squared_error(y_test, y_pred))"
   ]
  },
  {
   "cell_type": "code",
   "execution_count": null,
   "metadata": {},
   "outputs": [],
   "source": []
  },
  {
   "cell_type": "markdown",
   "metadata": {},
   "source": [
    "### BLR - Full Pooling"
   ]
  },
  {
   "cell_type": "code",
   "execution_count": 6,
   "metadata": {},
   "outputs": [],
   "source": [
    "# create bayesian linear regression model\n",
    "blr_full_pooling = create_blr_full_pooling(x_train, y_train)"
   ]
  },
  {
   "cell_type": "code",
   "execution_count": 7,
   "metadata": {},
   "outputs": [
    {
     "name": "stderr",
     "output_type": "stream",
     "text": [
      "Auto-assigning NUTS sampler...\n",
      "Initializing NUTS using jitter+adapt_diag...\n",
      "Multiprocess sampling (4 chains in 4 jobs)\n",
      "NUTS: [intercept, beta_medinc, beta_house_age, beta_ave_rooms, beta_ave_bedrms, beta_population, beta_ave_occup, sigma]\n"
     ]
    },
    {
     "data": {
      "text/html": [
       "\n",
       "<style>\n",
       "    /* Turns off some styling */\n",
       "    progress {\n",
       "        /* gets rid of default border in Firefox and Opera. */\n",
       "        border: none;\n",
       "        /* Needs to be in here for Safari polyfill so background images work as expected. */\n",
       "        background-size: auto;\n",
       "    }\n",
       "    progress:not([value]), progress:not([value])::-webkit-progress-bar {\n",
       "        background: repeating-linear-gradient(45deg, #7e7e7e, #7e7e7e 10px, #5c5c5c 10px, #5c5c5c 20px);\n",
       "    }\n",
       "    .progress-bar-interrupted, .progress-bar-interrupted::-webkit-progress-bar {\n",
       "        background: #F44336;\n",
       "    }\n",
       "</style>\n"
      ],
      "text/plain": [
       "<IPython.core.display.HTML object>"
      ]
     },
     "metadata": {},
     "output_type": "display_data"
    },
    {
     "data": {
      "text/html": [
       "\n",
       "    <div>\n",
       "      <progress value='8000' class='' max='8000' style='width:300px; height:20px; vertical-align: middle;'></progress>\n",
       "      100.00% [8000/8000 00:48&lt;00:00 Sampling 4 chains, 0 divergences]\n",
       "    </div>\n",
       "    "
      ],
      "text/plain": [
       "<IPython.core.display.HTML object>"
      ]
     },
     "metadata": {},
     "output_type": "display_data"
    },
    {
     "name": "stderr",
     "output_type": "stream",
     "text": [
      "Sampling 4 chains for 1_000 tune and 1_000 draw iterations (4_000 + 4_000 draws total) took 69 seconds.\n"
     ]
    }
   ],
   "source": [
    "with blr_full_pooling:\n",
    "    idata = pm.sample()"
   ]
  },
  {
   "cell_type": "markdown",
   "metadata": {},
   "source": [
    "#### Predict on test set"
   ]
  },
  {
   "cell_type": "code",
   "execution_count": 8,
   "metadata": {},
   "outputs": [
    {
     "name": "stderr",
     "output_type": "stream",
     "text": [
      "Sampling: [y]\n"
     ]
    },
    {
     "data": {
      "text/html": [
       "\n",
       "<style>\n",
       "    /* Turns off some styling */\n",
       "    progress {\n",
       "        /* gets rid of default border in Firefox and Opera. */\n",
       "        border: none;\n",
       "        /* Needs to be in here for Safari polyfill so background images work as expected. */\n",
       "        background-size: auto;\n",
       "    }\n",
       "    progress:not([value]), progress:not([value])::-webkit-progress-bar {\n",
       "        background: repeating-linear-gradient(45deg, #7e7e7e, #7e7e7e 10px, #5c5c5c 10px, #5c5c5c 20px);\n",
       "    }\n",
       "    .progress-bar-interrupted, .progress-bar-interrupted::-webkit-progress-bar {\n",
       "        background: #F44336;\n",
       "    }\n",
       "</style>\n"
      ],
      "text/plain": [
       "<IPython.core.display.HTML object>"
      ]
     },
     "metadata": {},
     "output_type": "display_data"
    },
    {
     "data": {
      "text/html": [
       "\n",
       "    <div>\n",
       "      <progress value='4000' class='' max='4000' style='width:300px; height:20px; vertical-align: middle;'></progress>\n",
       "      100.00% [4000/4000 00:00&lt;00:00]\n",
       "    </div>\n",
       "    "
      ],
      "text/plain": [
       "<IPython.core.display.HTML object>"
      ]
     },
     "metadata": {},
     "output_type": "display_data"
    },
    {
     "name": "stdout",
     "output_type": "stream",
     "text": [
      "MAE: 0.48972751495240924\n",
      "MSE: 0.377516043133102\n"
     ]
    }
   ],
   "source": [
    "with blr_full_pooling:\n",
    "    new_data = {\"medinc\": x_test.MedInc, \n",
    "                \"house_age\": x_test.HouseAge, \n",
    "                \"ave_rooms\": x_test.AveRooms,\n",
    "                \"ave_bedrms\": x_test.AveBedrms,\n",
    "                \"population\": x_test.Population,\n",
    "                \"ave_occup\": x_test.AveOccup,\n",
    "                \"median_house_value\": np.zeros(shape=y_test.shape)}  \n",
    "    pm.set_data(new_data)\n",
    "    idata.extend(pm.sample_posterior_predictive(idata))\n",
    "\n",
    "y_pred = idata.posterior_predictive.y.mean(axis=0).mean(axis=0).values\n",
    "print(\"MAE:\", mean_absolute_error(y_test, y_pred))\n",
    "print(\"MSE:\", mean_squared_error(y_test, y_pred))\n"
   ]
  },
  {
   "cell_type": "code",
   "execution_count": null,
   "metadata": {},
   "outputs": [],
   "source": []
  },
  {
   "cell_type": "markdown",
   "metadata": {},
   "source": [
    "### BLR - no pooling"
   ]
  },
  {
   "cell_type": "code",
   "execution_count": 9,
   "metadata": {},
   "outputs": [],
   "source": [
    "coords = {\"spatial_groups\": list(data.county_nr.unique())}\n",
    "blr_no_pooling = create_blr_no_pooling(x_train, y_train, coords, spatial_grouping_var=\"county_nr\")"
   ]
  },
  {
   "cell_type": "code",
   "execution_count": 10,
   "metadata": {},
   "outputs": [
    {
     "name": "stderr",
     "output_type": "stream",
     "text": [
      "Auto-assigning NUTS sampler...\n",
      "Initializing NUTS using jitter+adapt_diag...\n",
      "Multiprocess sampling (4 chains in 4 jobs)\n",
      "NUTS: [intercept, beta_medinc, beta_house_age, beta_ave_rooms, beta_ave_bedrms, beta_population, beta_ave_occup, sigma]\n"
     ]
    },
    {
     "data": {
      "text/html": [
       "\n",
       "<style>\n",
       "    /* Turns off some styling */\n",
       "    progress {\n",
       "        /* gets rid of default border in Firefox and Opera. */\n",
       "        border: none;\n",
       "        /* Needs to be in here for Safari polyfill so background images work as expected. */\n",
       "        background-size: auto;\n",
       "    }\n",
       "    progress:not([value]), progress:not([value])::-webkit-progress-bar {\n",
       "        background: repeating-linear-gradient(45deg, #7e7e7e, #7e7e7e 10px, #5c5c5c 10px, #5c5c5c 20px);\n",
       "    }\n",
       "    .progress-bar-interrupted, .progress-bar-interrupted::-webkit-progress-bar {\n",
       "        background: #F44336;\n",
       "    }\n",
       "</style>\n"
      ],
      "text/plain": [
       "<IPython.core.display.HTML object>"
      ]
     },
     "metadata": {},
     "output_type": "display_data"
    },
    {
     "data": {
      "text/html": [
       "\n",
       "    <div>\n",
       "      <progress value='8000' class='' max='8000' style='width:300px; height:20px; vertical-align: middle;'></progress>\n",
       "      100.00% [8000/8000 01:30&lt;00:00 Sampling 4 chains, 2 divergences]\n",
       "    </div>\n",
       "    "
      ],
      "text/plain": [
       "<IPython.core.display.HTML object>"
      ]
     },
     "metadata": {},
     "output_type": "display_data"
    },
    {
     "name": "stderr",
     "output_type": "stream",
     "text": [
      "Sampling 4 chains for 1_000 tune and 1_000 draw iterations (4_000 + 4_000 draws total) took 110 seconds.\n"
     ]
    }
   ],
   "source": [
    "with blr_no_pooling:\n",
    "    idata = pm.sample()"
   ]
  },
  {
   "cell_type": "code",
   "execution_count": 11,
   "metadata": {},
   "outputs": [
    {
     "name": "stderr",
     "output_type": "stream",
     "text": [
      "Sampling: [y]\n"
     ]
    },
    {
     "data": {
      "text/html": [
       "\n",
       "<style>\n",
       "    /* Turns off some styling */\n",
       "    progress {\n",
       "        /* gets rid of default border in Firefox and Opera. */\n",
       "        border: none;\n",
       "        /* Needs to be in here for Safari polyfill so background images work as expected. */\n",
       "        background-size: auto;\n",
       "    }\n",
       "    progress:not([value]), progress:not([value])::-webkit-progress-bar {\n",
       "        background: repeating-linear-gradient(45deg, #7e7e7e, #7e7e7e 10px, #5c5c5c 10px, #5c5c5c 20px);\n",
       "    }\n",
       "    .progress-bar-interrupted, .progress-bar-interrupted::-webkit-progress-bar {\n",
       "        background: #F44336;\n",
       "    }\n",
       "</style>\n"
      ],
      "text/plain": [
       "<IPython.core.display.HTML object>"
      ]
     },
     "metadata": {},
     "output_type": "display_data"
    },
    {
     "data": {
      "text/html": [
       "\n",
       "    <div>\n",
       "      <progress value='4000' class='' max='4000' style='width:300px; height:20px; vertical-align: middle;'></progress>\n",
       "      100.00% [4000/4000 00:01&lt;00:00]\n",
       "    </div>\n",
       "    "
      ],
      "text/plain": [
       "<IPython.core.display.HTML object>"
      ]
     },
     "metadata": {},
     "output_type": "display_data"
    },
    {
     "name": "stdout",
     "output_type": "stream",
     "text": [
      "MAE: 0.46378198354372\n",
      "MSE: 0.336643044603478\n"
     ]
    }
   ],
   "source": [
    "with blr_no_pooling:\n",
    "    new_data = {\"medinc\": x_test.MedInc, \n",
    "                \"house_age\": x_test.HouseAge, \n",
    "                \"ave_rooms\": x_test.AveRooms,\n",
    "                \"ave_bedrms\": x_test.AveBedrms,\n",
    "                \"population\": x_test.Population,\n",
    "                \"ave_occup\": x_test.AveOccup,\n",
    "                \"spatial_group_idx\": x_test.county_nr,\n",
    "                \"median_house_value\": np.zeros(shape=y_test.shape)}  \n",
    "    pm.set_data(new_data)\n",
    "    idata.extend(pm.sample_posterior_predictive(idata))\n",
    "\n",
    "y_pred = idata.posterior_predictive.y.mean(axis=0).mean(axis=0).values\n",
    "print(\"MAE:\", mean_absolute_error(y_test, y_pred))\n",
    "print(\"MSE:\", mean_squared_error(y_test, y_pred))"
   ]
  },
  {
   "cell_type": "code",
   "execution_count": null,
   "metadata": {},
   "outputs": [],
   "source": []
  },
  {
   "cell_type": "markdown",
   "metadata": {},
   "source": [
    "### BLR - partial pooling"
   ]
  },
  {
   "cell_type": "code",
   "execution_count": 12,
   "metadata": {},
   "outputs": [],
   "source": [
    "coords = {\"spatial_groups\": list(data.county_nr.unique())}\n",
    "blr_partial_pooling = create_blr_partial_pooling(x_train, y_train, coords, spatial_grouping_var=\"county_nr\")"
   ]
  },
  {
   "cell_type": "code",
   "execution_count": 13,
   "metadata": {},
   "outputs": [
    {
     "name": "stderr",
     "output_type": "stream",
     "text": [
      "Auto-assigning NUTS sampler...\n",
      "Initializing NUTS using jitter+adapt_diag...\n",
      "Multiprocess sampling (4 chains in 4 jobs)\n",
      "NUTS: [intercept_mu, intercept_sigma, intercept, beta_medinc, beta_house_age, beta_ave_rooms, beta_ave_bedrms, beta_population, beta_ave_occup, sigma]\n"
     ]
    },
    {
     "data": {
      "text/html": [
       "\n",
       "<style>\n",
       "    /* Turns off some styling */\n",
       "    progress {\n",
       "        /* gets rid of default border in Firefox and Opera. */\n",
       "        border: none;\n",
       "        /* Needs to be in here for Safari polyfill so background images work as expected. */\n",
       "        background-size: auto;\n",
       "    }\n",
       "    progress:not([value]), progress:not([value])::-webkit-progress-bar {\n",
       "        background: repeating-linear-gradient(45deg, #7e7e7e, #7e7e7e 10px, #5c5c5c 10px, #5c5c5c 20px);\n",
       "    }\n",
       "    .progress-bar-interrupted, .progress-bar-interrupted::-webkit-progress-bar {\n",
       "        background: #F44336;\n",
       "    }\n",
       "</style>\n"
      ],
      "text/plain": [
       "<IPython.core.display.HTML object>"
      ]
     },
     "metadata": {},
     "output_type": "display_data"
    },
    {
     "data": {
      "text/html": [
       "\n",
       "    <div>\n",
       "      <progress value='8000' class='' max='8000' style='width:300px; height:20px; vertical-align: middle;'></progress>\n",
       "      100.00% [8000/8000 00:42&lt;00:00 Sampling 4 chains, 180 divergences]\n",
       "    </div>\n",
       "    "
      ],
      "text/plain": [
       "<IPython.core.display.HTML object>"
      ]
     },
     "metadata": {},
     "output_type": "display_data"
    },
    {
     "name": "stderr",
     "output_type": "stream",
     "text": [
      "Sampling 4 chains for 1_000 tune and 1_000 draw iterations (4_000 + 4_000 draws total) took 61 seconds.\n"
     ]
    }
   ],
   "source": [
    "with blr_partial_pooling:\n",
    "    idata = pm.sample()"
   ]
  },
  {
   "cell_type": "code",
   "execution_count": 14,
   "metadata": {},
   "outputs": [
    {
     "name": "stderr",
     "output_type": "stream",
     "text": [
      "Sampling: [y]\n"
     ]
    },
    {
     "data": {
      "text/html": [
       "\n",
       "<style>\n",
       "    /* Turns off some styling */\n",
       "    progress {\n",
       "        /* gets rid of default border in Firefox and Opera. */\n",
       "        border: none;\n",
       "        /* Needs to be in here for Safari polyfill so background images work as expected. */\n",
       "        background-size: auto;\n",
       "    }\n",
       "    progress:not([value]), progress:not([value])::-webkit-progress-bar {\n",
       "        background: repeating-linear-gradient(45deg, #7e7e7e, #7e7e7e 10px, #5c5c5c 10px, #5c5c5c 20px);\n",
       "    }\n",
       "    .progress-bar-interrupted, .progress-bar-interrupted::-webkit-progress-bar {\n",
       "        background: #F44336;\n",
       "    }\n",
       "</style>\n"
      ],
      "text/plain": [
       "<IPython.core.display.HTML object>"
      ]
     },
     "metadata": {},
     "output_type": "display_data"
    },
    {
     "data": {
      "text/html": [
       "\n",
       "    <div>\n",
       "      <progress value='4000' class='' max='4000' style='width:300px; height:20px; vertical-align: middle;'></progress>\n",
       "      100.00% [4000/4000 00:00&lt;00:00]\n",
       "    </div>\n",
       "    "
      ],
      "text/plain": [
       "<IPython.core.display.HTML object>"
      ]
     },
     "metadata": {},
     "output_type": "display_data"
    },
    {
     "name": "stdout",
     "output_type": "stream",
     "text": [
      "MAE: 0.45031176039961485\n",
      "MSE: 0.31584203741414946\n"
     ]
    }
   ],
   "source": [
    "with blr_partial_pooling:\n",
    "    new_data = {\"medinc\": x_test.MedInc, \n",
    "                \"house_age\": x_test.HouseAge, \n",
    "                \"ave_rooms\": x_test.AveRooms,\n",
    "                \"ave_bedrms\": x_test.AveBedrms,\n",
    "                \"population\": x_test.Population,\n",
    "                \"ave_occup\": x_test.AveOccup,\n",
    "                \"spatial_group_idx\": x_test.county_nr,\n",
    "                \"median_house_value\": np.zeros(shape=y_test.shape)}  \n",
    "    pm.set_data(new_data)\n",
    "    idata.extend(pm.sample_posterior_predictive(idata))\n",
    "\n",
    "y_pred = idata.posterior_predictive.y.mean(axis=0).mean(axis=0).values\n",
    "print(\"MAE:\", mean_absolute_error(y_test, y_pred))\n",
    "print(\"MSE:\", mean_squared_error(y_test, y_pred))"
   ]
  },
  {
   "cell_type": "code",
   "execution_count": 19,
   "metadata": {},
   "outputs": [
    {
     "data": {
      "text/html": [
       "<div><svg style=\"position: absolute; width: 0; height: 0; overflow: hidden\">\n",
       "<defs>\n",
       "<symbol id=\"icon-database\" viewBox=\"0 0 32 32\">\n",
       "<path d=\"M16 0c-8.837 0-16 2.239-16 5v4c0 2.761 7.163 5 16 5s16-2.239 16-5v-4c0-2.761-7.163-5-16-5z\"></path>\n",
       "<path d=\"M16 17c-8.837 0-16-2.239-16-5v6c0 2.761 7.163 5 16 5s16-2.239 16-5v-6c0 2.761-7.163 5-16 5z\"></path>\n",
       "<path d=\"M16 26c-8.837 0-16-2.239-16-5v6c0 2.761 7.163 5 16 5s16-2.239 16-5v-6c0 2.761-7.163 5-16 5z\"></path>\n",
       "</symbol>\n",
       "<symbol id=\"icon-file-text2\" viewBox=\"0 0 32 32\">\n",
       "<path d=\"M28.681 7.159c-0.694-0.947-1.662-2.053-2.724-3.116s-2.169-2.030-3.116-2.724c-1.612-1.182-2.393-1.319-2.841-1.319h-15.5c-1.378 0-2.5 1.121-2.5 2.5v27c0 1.378 1.122 2.5 2.5 2.5h23c1.378 0 2.5-1.122 2.5-2.5v-19.5c0-0.448-0.137-1.23-1.319-2.841zM24.543 5.457c0.959 0.959 1.712 1.825 2.268 2.543h-4.811v-4.811c0.718 0.556 1.584 1.309 2.543 2.268zM28 29.5c0 0.271-0.229 0.5-0.5 0.5h-23c-0.271 0-0.5-0.229-0.5-0.5v-27c0-0.271 0.229-0.5 0.5-0.5 0 0 15.499-0 15.5 0v7c0 0.552 0.448 1 1 1h7v19.5z\"></path>\n",
       "<path d=\"M23 26h-14c-0.552 0-1-0.448-1-1s0.448-1 1-1h14c0.552 0 1 0.448 1 1s-0.448 1-1 1z\"></path>\n",
       "<path d=\"M23 22h-14c-0.552 0-1-0.448-1-1s0.448-1 1-1h14c0.552 0 1 0.448 1 1s-0.448 1-1 1z\"></path>\n",
       "<path d=\"M23 18h-14c-0.552 0-1-0.448-1-1s0.448-1 1-1h14c0.552 0 1 0.448 1 1s-0.448 1-1 1z\"></path>\n",
       "</symbol>\n",
       "</defs>\n",
       "</svg>\n",
       "<style>/* CSS stylesheet for displaying xarray objects in jupyterlab.\n",
       " *\n",
       " */\n",
       "\n",
       ":root {\n",
       "  --xr-font-color0: var(--jp-content-font-color0, rgba(0, 0, 0, 1));\n",
       "  --xr-font-color2: var(--jp-content-font-color2, rgba(0, 0, 0, 0.54));\n",
       "  --xr-font-color3: var(--jp-content-font-color3, rgba(0, 0, 0, 0.38));\n",
       "  --xr-border-color: var(--jp-border-color2, #e0e0e0);\n",
       "  --xr-disabled-color: var(--jp-layout-color3, #bdbdbd);\n",
       "  --xr-background-color: var(--jp-layout-color0, white);\n",
       "  --xr-background-color-row-even: var(--jp-layout-color1, white);\n",
       "  --xr-background-color-row-odd: var(--jp-layout-color2, #eeeeee);\n",
       "}\n",
       "\n",
       "html[theme=dark],\n",
       "body[data-theme=dark],\n",
       "body.vscode-dark {\n",
       "  --xr-font-color0: rgba(255, 255, 255, 1);\n",
       "  --xr-font-color2: rgba(255, 255, 255, 0.54);\n",
       "  --xr-font-color3: rgba(255, 255, 255, 0.38);\n",
       "  --xr-border-color: #1F1F1F;\n",
       "  --xr-disabled-color: #515151;\n",
       "  --xr-background-color: #111111;\n",
       "  --xr-background-color-row-even: #111111;\n",
       "  --xr-background-color-row-odd: #313131;\n",
       "}\n",
       "\n",
       ".xr-wrap {\n",
       "  display: block !important;\n",
       "  min-width: 300px;\n",
       "  max-width: 700px;\n",
       "}\n",
       "\n",
       ".xr-text-repr-fallback {\n",
       "  /* fallback to plain text repr when CSS is not injected (untrusted notebook) */\n",
       "  display: none;\n",
       "}\n",
       "\n",
       ".xr-header {\n",
       "  padding-top: 6px;\n",
       "  padding-bottom: 6px;\n",
       "  margin-bottom: 4px;\n",
       "  border-bottom: solid 1px var(--xr-border-color);\n",
       "}\n",
       "\n",
       ".xr-header > div,\n",
       ".xr-header > ul {\n",
       "  display: inline;\n",
       "  margin-top: 0;\n",
       "  margin-bottom: 0;\n",
       "}\n",
       "\n",
       ".xr-obj-type,\n",
       ".xr-array-name {\n",
       "  margin-left: 2px;\n",
       "  margin-right: 10px;\n",
       "}\n",
       "\n",
       ".xr-obj-type {\n",
       "  color: var(--xr-font-color2);\n",
       "}\n",
       "\n",
       ".xr-sections {\n",
       "  padding-left: 0 !important;\n",
       "  display: grid;\n",
       "  grid-template-columns: 150px auto auto 1fr 20px 20px;\n",
       "}\n",
       "\n",
       ".xr-section-item {\n",
       "  display: contents;\n",
       "}\n",
       "\n",
       ".xr-section-item input {\n",
       "  display: none;\n",
       "}\n",
       "\n",
       ".xr-section-item input + label {\n",
       "  color: var(--xr-disabled-color);\n",
       "}\n",
       "\n",
       ".xr-section-item input:enabled + label {\n",
       "  cursor: pointer;\n",
       "  color: var(--xr-font-color2);\n",
       "}\n",
       "\n",
       ".xr-section-item input:enabled + label:hover {\n",
       "  color: var(--xr-font-color0);\n",
       "}\n",
       "\n",
       ".xr-section-summary {\n",
       "  grid-column: 1;\n",
       "  color: var(--xr-font-color2);\n",
       "  font-weight: 500;\n",
       "}\n",
       "\n",
       ".xr-section-summary > span {\n",
       "  display: inline-block;\n",
       "  padding-left: 0.5em;\n",
       "}\n",
       "\n",
       ".xr-section-summary-in:disabled + label {\n",
       "  color: var(--xr-font-color2);\n",
       "}\n",
       "\n",
       ".xr-section-summary-in + label:before {\n",
       "  display: inline-block;\n",
       "  content: '►';\n",
       "  font-size: 11px;\n",
       "  width: 15px;\n",
       "  text-align: center;\n",
       "}\n",
       "\n",
       ".xr-section-summary-in:disabled + label:before {\n",
       "  color: var(--xr-disabled-color);\n",
       "}\n",
       "\n",
       ".xr-section-summary-in:checked + label:before {\n",
       "  content: '▼';\n",
       "}\n",
       "\n",
       ".xr-section-summary-in:checked + label > span {\n",
       "  display: none;\n",
       "}\n",
       "\n",
       ".xr-section-summary,\n",
       ".xr-section-inline-details {\n",
       "  padding-top: 4px;\n",
       "  padding-bottom: 4px;\n",
       "}\n",
       "\n",
       ".xr-section-inline-details {\n",
       "  grid-column: 2 / -1;\n",
       "}\n",
       "\n",
       ".xr-section-details {\n",
       "  display: none;\n",
       "  grid-column: 1 / -1;\n",
       "  margin-bottom: 5px;\n",
       "}\n",
       "\n",
       ".xr-section-summary-in:checked ~ .xr-section-details {\n",
       "  display: contents;\n",
       "}\n",
       "\n",
       ".xr-array-wrap {\n",
       "  grid-column: 1 / -1;\n",
       "  display: grid;\n",
       "  grid-template-columns: 20px auto;\n",
       "}\n",
       "\n",
       ".xr-array-wrap > label {\n",
       "  grid-column: 1;\n",
       "  vertical-align: top;\n",
       "}\n",
       "\n",
       ".xr-preview {\n",
       "  color: var(--xr-font-color3);\n",
       "}\n",
       "\n",
       ".xr-array-preview,\n",
       ".xr-array-data {\n",
       "  padding: 0 5px !important;\n",
       "  grid-column: 2;\n",
       "}\n",
       "\n",
       ".xr-array-data,\n",
       ".xr-array-in:checked ~ .xr-array-preview {\n",
       "  display: none;\n",
       "}\n",
       "\n",
       ".xr-array-in:checked ~ .xr-array-data,\n",
       ".xr-array-preview {\n",
       "  display: inline-block;\n",
       "}\n",
       "\n",
       ".xr-dim-list {\n",
       "  display: inline-block !important;\n",
       "  list-style: none;\n",
       "  padding: 0 !important;\n",
       "  margin: 0;\n",
       "}\n",
       "\n",
       ".xr-dim-list li {\n",
       "  display: inline-block;\n",
       "  padding: 0;\n",
       "  margin: 0;\n",
       "}\n",
       "\n",
       ".xr-dim-list:before {\n",
       "  content: '(';\n",
       "}\n",
       "\n",
       ".xr-dim-list:after {\n",
       "  content: ')';\n",
       "}\n",
       "\n",
       ".xr-dim-list li:not(:last-child):after {\n",
       "  content: ',';\n",
       "  padding-right: 5px;\n",
       "}\n",
       "\n",
       ".xr-has-index {\n",
       "  font-weight: bold;\n",
       "}\n",
       "\n",
       ".xr-var-list,\n",
       ".xr-var-item {\n",
       "  display: contents;\n",
       "}\n",
       "\n",
       ".xr-var-item > div,\n",
       ".xr-var-item label,\n",
       ".xr-var-item > .xr-var-name span {\n",
       "  background-color: var(--xr-background-color-row-even);\n",
       "  margin-bottom: 0;\n",
       "}\n",
       "\n",
       ".xr-var-item > .xr-var-name:hover span {\n",
       "  padding-right: 5px;\n",
       "}\n",
       "\n",
       ".xr-var-list > li:nth-child(odd) > div,\n",
       ".xr-var-list > li:nth-child(odd) > label,\n",
       ".xr-var-list > li:nth-child(odd) > .xr-var-name span {\n",
       "  background-color: var(--xr-background-color-row-odd);\n",
       "}\n",
       "\n",
       ".xr-var-name {\n",
       "  grid-column: 1;\n",
       "}\n",
       "\n",
       ".xr-var-dims {\n",
       "  grid-column: 2;\n",
       "}\n",
       "\n",
       ".xr-var-dtype {\n",
       "  grid-column: 3;\n",
       "  text-align: right;\n",
       "  color: var(--xr-font-color2);\n",
       "}\n",
       "\n",
       ".xr-var-preview {\n",
       "  grid-column: 4;\n",
       "}\n",
       "\n",
       ".xr-index-preview {\n",
       "  grid-column: 2 / 5;\n",
       "  color: var(--xr-font-color2);\n",
       "}\n",
       "\n",
       ".xr-var-name,\n",
       ".xr-var-dims,\n",
       ".xr-var-dtype,\n",
       ".xr-preview,\n",
       ".xr-attrs dt {\n",
       "  white-space: nowrap;\n",
       "  overflow: hidden;\n",
       "  text-overflow: ellipsis;\n",
       "  padding-right: 10px;\n",
       "}\n",
       "\n",
       ".xr-var-name:hover,\n",
       ".xr-var-dims:hover,\n",
       ".xr-var-dtype:hover,\n",
       ".xr-attrs dt:hover {\n",
       "  overflow: visible;\n",
       "  width: auto;\n",
       "  z-index: 1;\n",
       "}\n",
       "\n",
       ".xr-var-attrs,\n",
       ".xr-var-data,\n",
       ".xr-index-data {\n",
       "  display: none;\n",
       "  background-color: var(--xr-background-color) !important;\n",
       "  padding-bottom: 5px !important;\n",
       "}\n",
       "\n",
       ".xr-var-attrs-in:checked ~ .xr-var-attrs,\n",
       ".xr-var-data-in:checked ~ .xr-var-data,\n",
       ".xr-index-data-in:checked ~ .xr-index-data {\n",
       "  display: block;\n",
       "}\n",
       "\n",
       ".xr-var-data > table {\n",
       "  float: right;\n",
       "}\n",
       "\n",
       ".xr-var-name span,\n",
       ".xr-var-data,\n",
       ".xr-index-name div,\n",
       ".xr-index-data,\n",
       ".xr-attrs {\n",
       "  padding-left: 25px !important;\n",
       "}\n",
       "\n",
       ".xr-attrs,\n",
       ".xr-var-attrs,\n",
       ".xr-var-data,\n",
       ".xr-index-data {\n",
       "  grid-column: 1 / -1;\n",
       "}\n",
       "\n",
       "dl.xr-attrs {\n",
       "  padding: 0;\n",
       "  margin: 0;\n",
       "  display: grid;\n",
       "  grid-template-columns: 125px auto;\n",
       "}\n",
       "\n",
       ".xr-attrs dt,\n",
       ".xr-attrs dd {\n",
       "  padding: 0;\n",
       "  margin: 0;\n",
       "  float: left;\n",
       "  padding-right: 10px;\n",
       "  width: auto;\n",
       "}\n",
       "\n",
       ".xr-attrs dt {\n",
       "  font-weight: normal;\n",
       "  grid-column: 1;\n",
       "}\n",
       "\n",
       ".xr-attrs dt:hover span {\n",
       "  display: inline-block;\n",
       "  background: var(--xr-background-color);\n",
       "  padding-right: 10px;\n",
       "}\n",
       "\n",
       ".xr-attrs dd {\n",
       "  grid-column: 2;\n",
       "  white-space: pre-wrap;\n",
       "  word-break: break-all;\n",
       "}\n",
       "\n",
       ".xr-icon-database,\n",
       ".xr-icon-file-text2,\n",
       ".xr-no-icon {\n",
       "  display: inline-block;\n",
       "  vertical-align: middle;\n",
       "  width: 1em;\n",
       "  height: 1.5em !important;\n",
       "  stroke-width: 0;\n",
       "  stroke: currentColor;\n",
       "  fill: currentColor;\n",
       "}\n",
       "</style><pre class='xr-text-repr-fallback'>&lt;xarray.DataArray &#x27;intercept&#x27; (chain: 4, draw: 1000, spatial_groups: 49)&gt;\n",
       "array([[[ 1.51505642,  1.38063946,  0.74814357, ...,  1.41533924,\n",
       "          1.38448885,  0.91755314],\n",
       "        [ 1.42830655,  1.04443473,  0.4038864 , ...,  1.61952774,\n",
       "          0.93617962,  1.4310583 ],\n",
       "        [ 1.13591659,  2.01291849,  0.95916963, ...,  0.8568057 ,\n",
       "          0.97719337,  0.20385956],\n",
       "        ...,\n",
       "        [ 0.94256118,  1.03234808,  0.75331972, ...,  0.91583016,\n",
       "          1.16206023,  0.85675307],\n",
       "        [ 0.92405647,  0.92813509,  0.8685433 , ...,  1.17349789,\n",
       "          0.79080393,  1.01858748],\n",
       "        [ 0.94199228,  0.94579375,  1.01852975, ...,  0.81421809,\n",
       "          0.91451666,  0.92163481]],\n",
       "\n",
       "       [[ 1.0666645 ,  1.90344108,  0.66012758, ...,  0.72401052,\n",
       "          2.02593323,  1.20325165],\n",
       "        [ 1.49781828,  0.42741321,  0.78116317, ...,  2.00769602,\n",
       "          0.99656158,  0.50115429],\n",
       "        [ 1.19780934,  1.59118852,  0.12648266, ...,  1.53831898,\n",
       "          0.56104921,  1.05638013],\n",
       "...\n",
       "        [ 0.3976775 ,  0.78125465,  0.21457599, ...,  0.31714924,\n",
       "          0.52851553,  0.66397708],\n",
       "        [ 0.80714281,  0.42609873,  0.38003272, ...,  1.03878275,\n",
       "          0.44816681, -0.02275094],\n",
       "        [ 0.39290136,  0.55500311,  0.53757075, ...,  0.26134084,\n",
       "          0.57442893,  0.92395042]],\n",
       "\n",
       "       [[ 0.96919092,  1.43841576,  1.2404992 , ...,  1.15354766,\n",
       "          1.60448085,  1.30448303],\n",
       "        [ 1.06728114,  1.44427733,  0.69398185, ...,  1.86947831,\n",
       "          1.31645021,  0.76386748],\n",
       "        [ 1.49615114,  1.30416992,  0.917138  , ...,  1.59073657,\n",
       "          1.25283707,  0.72096452],\n",
       "        ...,\n",
       "        [ 1.03651844,  0.44219518,  0.72929071, ...,  0.90930006,\n",
       "          0.42634108,  0.21391697],\n",
       "        [ 0.98535999,  0.82879384,  0.26609843, ...,  0.99074332,\n",
       "          0.99400837,  1.05677198],\n",
       "        [ 0.56708255,  0.66191476,  0.30156972, ...,  1.39283445,\n",
       "          1.8583404 ,  0.01907645]]])\n",
       "Coordinates:\n",
       "  * chain           (chain) int32 0 1 2 3\n",
       "  * draw            (draw) int32 0 1 2 3 4 5 6 7 ... 993 994 995 996 997 998 999\n",
       "  * spatial_groups  (spatial_groups) int32 31 19 1 30 48 40 ... 45 17 35 25 16</pre><div class='xr-wrap' style='display:none'><div class='xr-header'><div class='xr-obj-type'>xarray.DataArray</div><div class='xr-array-name'>'intercept'</div><ul class='xr-dim-list'><li><span class='xr-has-index'>chain</span>: 4</li><li><span class='xr-has-index'>draw</span>: 1000</li><li><span class='xr-has-index'>spatial_groups</span>: 49</li></ul></div><ul class='xr-sections'><li class='xr-section-item'><div class='xr-array-wrap'><input id='section-9b116ef3-693b-4003-9093-2e37624b397b' class='xr-array-in' type='checkbox' checked><label for='section-9b116ef3-693b-4003-9093-2e37624b397b' title='Show/hide data repr'><svg class='icon xr-icon-database'><use xlink:href='#icon-database'></use></svg></label><div class='xr-array-preview xr-preview'><span>1.515 1.381 0.7481 0.9519 1.208 ... 2.0 1.346 1.393 1.858 0.01908</span></div><div class='xr-array-data'><pre>array([[[ 1.51505642,  1.38063946,  0.74814357, ...,  1.41533924,\n",
       "          1.38448885,  0.91755314],\n",
       "        [ 1.42830655,  1.04443473,  0.4038864 , ...,  1.61952774,\n",
       "          0.93617962,  1.4310583 ],\n",
       "        [ 1.13591659,  2.01291849,  0.95916963, ...,  0.8568057 ,\n",
       "          0.97719337,  0.20385956],\n",
       "        ...,\n",
       "        [ 0.94256118,  1.03234808,  0.75331972, ...,  0.91583016,\n",
       "          1.16206023,  0.85675307],\n",
       "        [ 0.92405647,  0.92813509,  0.8685433 , ...,  1.17349789,\n",
       "          0.79080393,  1.01858748],\n",
       "        [ 0.94199228,  0.94579375,  1.01852975, ...,  0.81421809,\n",
       "          0.91451666,  0.92163481]],\n",
       "\n",
       "       [[ 1.0666645 ,  1.90344108,  0.66012758, ...,  0.72401052,\n",
       "          2.02593323,  1.20325165],\n",
       "        [ 1.49781828,  0.42741321,  0.78116317, ...,  2.00769602,\n",
       "          0.99656158,  0.50115429],\n",
       "        [ 1.19780934,  1.59118852,  0.12648266, ...,  1.53831898,\n",
       "          0.56104921,  1.05638013],\n",
       "...\n",
       "        [ 0.3976775 ,  0.78125465,  0.21457599, ...,  0.31714924,\n",
       "          0.52851553,  0.66397708],\n",
       "        [ 0.80714281,  0.42609873,  0.38003272, ...,  1.03878275,\n",
       "          0.44816681, -0.02275094],\n",
       "        [ 0.39290136,  0.55500311,  0.53757075, ...,  0.26134084,\n",
       "          0.57442893,  0.92395042]],\n",
       "\n",
       "       [[ 0.96919092,  1.43841576,  1.2404992 , ...,  1.15354766,\n",
       "          1.60448085,  1.30448303],\n",
       "        [ 1.06728114,  1.44427733,  0.69398185, ...,  1.86947831,\n",
       "          1.31645021,  0.76386748],\n",
       "        [ 1.49615114,  1.30416992,  0.917138  , ...,  1.59073657,\n",
       "          1.25283707,  0.72096452],\n",
       "        ...,\n",
       "        [ 1.03651844,  0.44219518,  0.72929071, ...,  0.90930006,\n",
       "          0.42634108,  0.21391697],\n",
       "        [ 0.98535999,  0.82879384,  0.26609843, ...,  0.99074332,\n",
       "          0.99400837,  1.05677198],\n",
       "        [ 0.56708255,  0.66191476,  0.30156972, ...,  1.39283445,\n",
       "          1.8583404 ,  0.01907645]]])</pre></div></div></li><li class='xr-section-item'><input id='section-d56c50a6-cbee-4a9f-82ff-d9171a182877' class='xr-section-summary-in' type='checkbox'  checked><label for='section-d56c50a6-cbee-4a9f-82ff-d9171a182877' class='xr-section-summary' >Coordinates: <span>(3)</span></label><div class='xr-section-inline-details'></div><div class='xr-section-details'><ul class='xr-var-list'><li class='xr-var-item'><div class='xr-var-name'><span class='xr-has-index'>chain</span></div><div class='xr-var-dims'>(chain)</div><div class='xr-var-dtype'>int32</div><div class='xr-var-preview xr-preview'>0 1 2 3</div><input id='attrs-7125b081-87ff-4dc3-9283-848e5fd6745c' class='xr-var-attrs-in' type='checkbox' disabled><label for='attrs-7125b081-87ff-4dc3-9283-848e5fd6745c' title='Show/Hide attributes'><svg class='icon xr-icon-file-text2'><use xlink:href='#icon-file-text2'></use></svg></label><input id='data-724b137e-99c2-4fec-b1dd-c3c0cdec5deb' class='xr-var-data-in' type='checkbox'><label for='data-724b137e-99c2-4fec-b1dd-c3c0cdec5deb' title='Show/Hide data repr'><svg class='icon xr-icon-database'><use xlink:href='#icon-database'></use></svg></label><div class='xr-var-attrs'><dl class='xr-attrs'></dl></div><div class='xr-var-data'><pre>array([0, 1, 2, 3])</pre></div></li><li class='xr-var-item'><div class='xr-var-name'><span class='xr-has-index'>draw</span></div><div class='xr-var-dims'>(draw)</div><div class='xr-var-dtype'>int32</div><div class='xr-var-preview xr-preview'>0 1 2 3 4 5 ... 995 996 997 998 999</div><input id='attrs-92d2a0f8-e0d2-47d8-8e9d-e96d68b08625' class='xr-var-attrs-in' type='checkbox' disabled><label for='attrs-92d2a0f8-e0d2-47d8-8e9d-e96d68b08625' title='Show/Hide attributes'><svg class='icon xr-icon-file-text2'><use xlink:href='#icon-file-text2'></use></svg></label><input id='data-8c05e920-715c-4d4b-b17b-857ee241f5b4' class='xr-var-data-in' type='checkbox'><label for='data-8c05e920-715c-4d4b-b17b-857ee241f5b4' title='Show/Hide data repr'><svg class='icon xr-icon-database'><use xlink:href='#icon-database'></use></svg></label><div class='xr-var-attrs'><dl class='xr-attrs'></dl></div><div class='xr-var-data'><pre>array([  0,   1,   2, ..., 997, 998, 999])</pre></div></li><li class='xr-var-item'><div class='xr-var-name'><span class='xr-has-index'>spatial_groups</span></div><div class='xr-var-dims'>(spatial_groups)</div><div class='xr-var-dtype'>int32</div><div class='xr-var-preview xr-preview'>31 19 1 30 48 40 ... 45 17 35 25 16</div><input id='attrs-d03813e8-4668-4ab4-9d7a-076895850221' class='xr-var-attrs-in' type='checkbox' disabled><label for='attrs-d03813e8-4668-4ab4-9d7a-076895850221' title='Show/Hide attributes'><svg class='icon xr-icon-file-text2'><use xlink:href='#icon-file-text2'></use></svg></label><input id='data-1c421709-18ce-425d-b155-6c3a5ced6aa9' class='xr-var-data-in' type='checkbox'><label for='data-1c421709-18ce-425d-b155-6c3a5ced6aa9' title='Show/Hide data repr'><svg class='icon xr-icon-database'><use xlink:href='#icon-database'></use></svg></label><div class='xr-var-attrs'><dl class='xr-attrs'></dl></div><div class='xr-var-data'><pre>array([31, 19,  1, 30, 48, 40, 24, 43, 14, 26,  8, 38, 33, 22,  2, 28,  3, 29,\n",
       "        6, 32, 44, 27,  4, 13,  0, 37, 10,  9, 46, 18, 23, 47, 36, 34, 11,  7,\n",
       "       42, 15, 20,  5, 21, 12, 39, 41, 45, 17, 35, 25, 16])</pre></div></li></ul></div></li><li class='xr-section-item'><input id='section-e67a01b5-a9a2-4ba0-9672-cfa6105e1dd2' class='xr-section-summary-in' type='checkbox'  ><label for='section-e67a01b5-a9a2-4ba0-9672-cfa6105e1dd2' class='xr-section-summary' >Indexes: <span>(3)</span></label><div class='xr-section-inline-details'></div><div class='xr-section-details'><ul class='xr-var-list'><li class='xr-var-item'><div class='xr-index-name'><div>chain</div></div><div class='xr-index-preview'>PandasIndex</div><div></div><input id='index-ed953009-7ea4-4481-9c9f-278d9c2545e3' class='xr-index-data-in' type='checkbox'/><label for='index-ed953009-7ea4-4481-9c9f-278d9c2545e3' title='Show/Hide index repr'><svg class='icon xr-icon-database'><use xlink:href='#icon-database'></use></svg></label><div class='xr-index-data'><pre>PandasIndex(Int64Index([0, 1, 2, 3], dtype=&#x27;int64&#x27;, name=&#x27;chain&#x27;))</pre></div></li><li class='xr-var-item'><div class='xr-index-name'><div>draw</div></div><div class='xr-index-preview'>PandasIndex</div><div></div><input id='index-89cf7688-df6f-4532-a009-70706e39e63b' class='xr-index-data-in' type='checkbox'/><label for='index-89cf7688-df6f-4532-a009-70706e39e63b' title='Show/Hide index repr'><svg class='icon xr-icon-database'><use xlink:href='#icon-database'></use></svg></label><div class='xr-index-data'><pre>PandasIndex(Int64Index([  0,   1,   2,   3,   4,   5,   6,   7,   8,   9,\n",
       "            ...\n",
       "            990, 991, 992, 993, 994, 995, 996, 997, 998, 999],\n",
       "           dtype=&#x27;int64&#x27;, name=&#x27;draw&#x27;, length=1000))</pre></div></li><li class='xr-var-item'><div class='xr-index-name'><div>spatial_groups</div></div><div class='xr-index-preview'>PandasIndex</div><div></div><input id='index-c80af012-12a7-470f-a385-6de63c109d9b' class='xr-index-data-in' type='checkbox'/><label for='index-c80af012-12a7-470f-a385-6de63c109d9b' title='Show/Hide index repr'><svg class='icon xr-icon-database'><use xlink:href='#icon-database'></use></svg></label><div class='xr-index-data'><pre>PandasIndex(Int64Index([31, 19,  1, 30, 48, 40, 24, 43, 14, 26,  8, 38, 33, 22,  2, 28,  3,\n",
       "            29,  6, 32, 44, 27,  4, 13,  0, 37, 10,  9, 46, 18, 23, 47, 36, 34,\n",
       "            11,  7, 42, 15, 20,  5, 21, 12, 39, 41, 45, 17, 35, 25, 16],\n",
       "           dtype=&#x27;int64&#x27;, name=&#x27;spatial_groups&#x27;))</pre></div></li></ul></div></li><li class='xr-section-item'><input id='section-386d3b47-efb9-4094-93b3-eb2e26e02200' class='xr-section-summary-in' type='checkbox' disabled ><label for='section-386d3b47-efb9-4094-93b3-eb2e26e02200' class='xr-section-summary'  title='Expand/collapse section'>Attributes: <span>(0)</span></label><div class='xr-section-inline-details'></div><div class='xr-section-details'><dl class='xr-attrs'></dl></div></li></ul></div></div>"
      ],
      "text/plain": [
       "<xarray.DataArray 'intercept' (chain: 4, draw: 1000, spatial_groups: 49)>\n",
       "array([[[ 1.51505642,  1.38063946,  0.74814357, ...,  1.41533924,\n",
       "          1.38448885,  0.91755314],\n",
       "        [ 1.42830655,  1.04443473,  0.4038864 , ...,  1.61952774,\n",
       "          0.93617962,  1.4310583 ],\n",
       "        [ 1.13591659,  2.01291849,  0.95916963, ...,  0.8568057 ,\n",
       "          0.97719337,  0.20385956],\n",
       "        ...,\n",
       "        [ 0.94256118,  1.03234808,  0.75331972, ...,  0.91583016,\n",
       "          1.16206023,  0.85675307],\n",
       "        [ 0.92405647,  0.92813509,  0.8685433 , ...,  1.17349789,\n",
       "          0.79080393,  1.01858748],\n",
       "        [ 0.94199228,  0.94579375,  1.01852975, ...,  0.81421809,\n",
       "          0.91451666,  0.92163481]],\n",
       "\n",
       "       [[ 1.0666645 ,  1.90344108,  0.66012758, ...,  0.72401052,\n",
       "          2.02593323,  1.20325165],\n",
       "        [ 1.49781828,  0.42741321,  0.78116317, ...,  2.00769602,\n",
       "          0.99656158,  0.50115429],\n",
       "        [ 1.19780934,  1.59118852,  0.12648266, ...,  1.53831898,\n",
       "          0.56104921,  1.05638013],\n",
       "...\n",
       "        [ 0.3976775 ,  0.78125465,  0.21457599, ...,  0.31714924,\n",
       "          0.52851553,  0.66397708],\n",
       "        [ 0.80714281,  0.42609873,  0.38003272, ...,  1.03878275,\n",
       "          0.44816681, -0.02275094],\n",
       "        [ 0.39290136,  0.55500311,  0.53757075, ...,  0.26134084,\n",
       "          0.57442893,  0.92395042]],\n",
       "\n",
       "       [[ 0.96919092,  1.43841576,  1.2404992 , ...,  1.15354766,\n",
       "          1.60448085,  1.30448303],\n",
       "        [ 1.06728114,  1.44427733,  0.69398185, ...,  1.86947831,\n",
       "          1.31645021,  0.76386748],\n",
       "        [ 1.49615114,  1.30416992,  0.917138  , ...,  1.59073657,\n",
       "          1.25283707,  0.72096452],\n",
       "        ...,\n",
       "        [ 1.03651844,  0.44219518,  0.72929071, ...,  0.90930006,\n",
       "          0.42634108,  0.21391697],\n",
       "        [ 0.98535999,  0.82879384,  0.26609843, ...,  0.99074332,\n",
       "          0.99400837,  1.05677198],\n",
       "        [ 0.56708255,  0.66191476,  0.30156972, ...,  1.39283445,\n",
       "          1.8583404 ,  0.01907645]]])\n",
       "Coordinates:\n",
       "  * chain           (chain) int32 0 1 2 3\n",
       "  * draw            (draw) int32 0 1 2 3 4 5 6 7 ... 993 994 995 996 997 998 999\n",
       "  * spatial_groups  (spatial_groups) int32 31 19 1 30 48 40 ... 45 17 35 25 16"
      ]
     },
     "execution_count": 19,
     "metadata": {},
     "output_type": "execute_result"
    }
   ],
   "source": [
    "idata.posterior.intercept"
   ]
  },
  {
   "cell_type": "markdown",
   "metadata": {},
   "source": [
    "### BLR - partial pooling gaussian priors"
   ]
  },
  {
   "cell_type": "code",
   "execution_count": 15,
   "metadata": {},
   "outputs": [],
   "source": [
    "unique_county = data.groupby('county_nr').agg({'county_lat': 'first', 'county_lon': 'first'}).reset_index()\n",
    "coords = {\"spatial_groups\": list(unique_county.county_nr)}\n",
    "county_coordinates = unique_county.loc[:, [\"county_lon\", \"county_lat\"]].values"
   ]
  },
  {
   "cell_type": "code",
   "execution_count": 16,
   "metadata": {},
   "outputs": [],
   "source": [
    "\n",
    "blr_partial_pooling_gp = create_blr_partial_pooling_gp(x_train, y_train, coords, spatial_grouping_var=\"county_nr\", spatial_groups_coordinates=county_coordinates)"
   ]
  },
  {
   "cell_type": "code",
   "execution_count": 17,
   "metadata": {},
   "outputs": [
    {
     "name": "stderr",
     "output_type": "stream",
     "text": [
      "Auto-assigning NUTS sampler...\n",
      "Initializing NUTS using jitter+adapt_diag...\n"
     ]
    },
    {
     "ename": "ValueError",
     "evalue": "array must not contain infs or NaNs\nApply node that caused the error: Cholesky{lower=True, destructive=False, on_error='raise'}(Elemwise{Composite{((exp((i0 * clip((i1 + i2 + i3), i4, i5))) * i6) + (i7 * i8))}}[(0, 1)].0)\nToposort index: 63\nInputs types: [TensorType(float64, (?, ?))]\nInputs shapes: [(49, 49)]\nInputs strides: [(392, 8)]\nInputs values: ['not shown']\nOutputs clients: [[CGemv{inplace}(AllocEmpty{dtype='float64'}.0, TensorConstant{1.0}, Cholesky{lower=True, destructive=False, on_error='raise'}.0, intercept_gp_rotated_, TensorConstant{0.0})]]\n\nBacktrace when the node is created (use PyTensor flag traceback__limit=N to make it longer):\n  File \"c:\\Users\\David\\anaconda3\\envs\\pymc_env\\Lib\\site-packages\\IPython\\core\\async_helpers.py\", line 129, in _pseudo_sync_runner\n    coro.send(None)\n  File \"c:\\Users\\David\\anaconda3\\envs\\pymc_env\\Lib\\site-packages\\IPython\\core\\interactiveshell.py\", line 3203, in run_cell_async\n    has_raised = await self.run_ast_nodes(code_ast.body, cell_name,\n  File \"c:\\Users\\David\\anaconda3\\envs\\pymc_env\\Lib\\site-packages\\IPython\\core\\interactiveshell.py\", line 3382, in run_ast_nodes\n    if await self.run_code(code, result, async_=asy):\n  File \"c:\\Users\\David\\anaconda3\\envs\\pymc_env\\Lib\\site-packages\\IPython\\core\\interactiveshell.py\", line 3442, in run_code\n    exec(code_obj, self.user_global_ns, self.user_ns)\n  File \"C:\\Users\\David\\AppData\\Local\\Temp;\\ipykernel_16692\\3283503627.py\", line 1, in <module>\n    blr_partial_pooling_gp = create_blr_partial_pooling_gp(x_train, y_train, coords, spatial_grouping_var=\"county_nr\", spatial_groups_coordinates=county_coordinates)\n  File \"c:\\Users\\David\\Documents\\TU_Cloud_privat\\Projects\\California_Housing_Pymc\\spatiotemporal-modeling-pymc\\notebooks\\../src\\models.py\", line 185, in create_blr_partial_pooling_gp\n    gp = latent.prior(\n  File \"c:\\Users\\David\\anaconda3\\envs\\pymc_env\\Lib\\site-packages\\pymc\\gp\\gp.py\", line 188, in prior\n    f = self._build_prior(name, X, reparameterize, jitter, **kwargs)\n  File \"c:\\Users\\David\\anaconda3\\envs\\pymc_env\\Lib\\site-packages\\pymc\\gp\\gp.py\", line 155, in _build_prior\n    f = pm.Deterministic(name, mu + cholesky(cov).dot(v), dims=kwargs.get(\"dims\", None))\n\nHINT: Use the PyTensor flag `exception_verbosity=high` for a debug print-out and storage map footprint of this Apply node.",
     "output_type": "error",
     "traceback": [
      "\u001b[1;31m---------------------------------------------------------------------------\u001b[0m",
      "\u001b[1;31mValueError\u001b[0m                                Traceback (most recent call last)",
      "File \u001b[1;32mc:\\Users\\David\\anaconda3\\envs\\pymc_env\\Lib\\site-packages\\pytensor\\compile\\function\\types.py:972\u001b[0m, in \u001b[0;36mFunction.__call__\u001b[1;34m(self, *args, **kwargs)\u001b[0m\n\u001b[0;32m    970\u001b[0m \u001b[39mtry\u001b[39;00m:\n\u001b[0;32m    971\u001b[0m     outputs \u001b[39m=\u001b[39m (\n\u001b[1;32m--> 972\u001b[0m         \u001b[39mself\u001b[39;49m\u001b[39m.\u001b[39;49mvm()\n\u001b[0;32m    973\u001b[0m         \u001b[39mif\u001b[39;00m output_subset \u001b[39mis\u001b[39;00m \u001b[39mNone\u001b[39;00m\n\u001b[0;32m    974\u001b[0m         \u001b[39melse\u001b[39;00m \u001b[39mself\u001b[39m\u001b[39m.\u001b[39mvm(output_subset\u001b[39m=\u001b[39moutput_subset)\n\u001b[0;32m    975\u001b[0m     )\n\u001b[0;32m    976\u001b[0m \u001b[39mexcept\u001b[39;00m \u001b[39mException\u001b[39;00m:\n",
      "File \u001b[1;32mc:\\Users\\David\\anaconda3\\envs\\pymc_env\\Lib\\site-packages\\pytensor\\graph\\op.py:544\u001b[0m, in \u001b[0;36mOp.make_py_thunk.<locals>.rval\u001b[1;34m(p, i, o, n, params)\u001b[0m\n\u001b[0;32m    540\u001b[0m \u001b[39m@is_thunk_type\u001b[39m\n\u001b[0;32m    541\u001b[0m \u001b[39mdef\u001b[39;00m \u001b[39mrval\u001b[39m(\n\u001b[0;32m    542\u001b[0m     p\u001b[39m=\u001b[39mp, i\u001b[39m=\u001b[39mnode_input_storage, o\u001b[39m=\u001b[39mnode_output_storage, n\u001b[39m=\u001b[39mnode, params\u001b[39m=\u001b[39m\u001b[39mNone\u001b[39;00m\n\u001b[0;32m    543\u001b[0m ):\n\u001b[1;32m--> 544\u001b[0m     r \u001b[39m=\u001b[39m p(n, [x[\u001b[39m0\u001b[39;49m] \u001b[39mfor\u001b[39;49;00m x \u001b[39min\u001b[39;49;00m i], o)\n\u001b[0;32m    545\u001b[0m     \u001b[39mfor\u001b[39;00m o \u001b[39min\u001b[39;00m node\u001b[39m.\u001b[39moutputs:\n",
      "File \u001b[1;32mc:\\Users\\David\\anaconda3\\envs\\pymc_env\\Lib\\site-packages\\pytensor\\tensor\\slinalg.py:70\u001b[0m, in \u001b[0;36mCholesky.perform\u001b[1;34m(self, node, inputs, outputs)\u001b[0m\n\u001b[0;32m     69\u001b[0m \u001b[39mtry\u001b[39;00m:\n\u001b[1;32m---> 70\u001b[0m     z[\u001b[39m0\u001b[39m] \u001b[39m=\u001b[39m scipy\u001b[39m.\u001b[39;49mlinalg\u001b[39m.\u001b[39;49mcholesky(x, lower\u001b[39m=\u001b[39;49m\u001b[39mself\u001b[39;49m\u001b[39m.\u001b[39;49mlower)\u001b[39m.\u001b[39mastype(x\u001b[39m.\u001b[39mdtype)\n\u001b[0;32m     71\u001b[0m \u001b[39mexcept\u001b[39;00m scipy\u001b[39m.\u001b[39mlinalg\u001b[39m.\u001b[39mLinAlgError:\n",
      "File \u001b[1;32mc:\\Users\\David\\anaconda3\\envs\\pymc_env\\Lib\\site-packages\\scipy\\linalg\\_decomp_cholesky.py:89\u001b[0m, in \u001b[0;36mcholesky\u001b[1;34m(a, lower, overwrite_a, check_finite)\u001b[0m\n\u001b[0;32m     46\u001b[0m \u001b[39m\u001b[39m\u001b[39m\"\"\"\u001b[39;00m\n\u001b[0;32m     47\u001b[0m \u001b[39mCompute the Cholesky decomposition of a matrix.\u001b[39;00m\n\u001b[0;32m     48\u001b[0m \n\u001b[1;32m   (...)\u001b[0m\n\u001b[0;32m     87\u001b[0m \n\u001b[0;32m     88\u001b[0m \u001b[39m\"\"\"\u001b[39;00m\n\u001b[1;32m---> 89\u001b[0m c, lower \u001b[39m=\u001b[39m _cholesky(a, lower\u001b[39m=\u001b[39;49mlower, overwrite_a\u001b[39m=\u001b[39;49moverwrite_a, clean\u001b[39m=\u001b[39;49m\u001b[39mTrue\u001b[39;49;00m,\n\u001b[0;32m     90\u001b[0m                      check_finite\u001b[39m=\u001b[39;49mcheck_finite)\n\u001b[0;32m     91\u001b[0m \u001b[39mreturn\u001b[39;00m c\n",
      "File \u001b[1;32mc:\\Users\\David\\anaconda3\\envs\\pymc_env\\Lib\\site-packages\\scipy\\linalg\\_decomp_cholesky.py:17\u001b[0m, in \u001b[0;36m_cholesky\u001b[1;34m(a, lower, overwrite_a, clean, check_finite)\u001b[0m\n\u001b[0;32m     15\u001b[0m \u001b[39m\u001b[39m\u001b[39m\"\"\"Common code for cholesky() and cho_factor().\"\"\"\u001b[39;00m\n\u001b[1;32m---> 17\u001b[0m a1 \u001b[39m=\u001b[39m asarray_chkfinite(a) \u001b[39mif\u001b[39;00m check_finite \u001b[39melse\u001b[39;00m asarray(a)\n\u001b[0;32m     18\u001b[0m a1 \u001b[39m=\u001b[39m atleast_2d(a1)\n",
      "File \u001b[1;32mc:\\Users\\David\\anaconda3\\envs\\pymc_env\\Lib\\site-packages\\numpy\\lib\\function_base.py:628\u001b[0m, in \u001b[0;36masarray_chkfinite\u001b[1;34m(a, dtype, order)\u001b[0m\n\u001b[0;32m    627\u001b[0m \u001b[39mif\u001b[39;00m a\u001b[39m.\u001b[39mdtype\u001b[39m.\u001b[39mchar \u001b[39min\u001b[39;00m typecodes[\u001b[39m'\u001b[39m\u001b[39mAllFloat\u001b[39m\u001b[39m'\u001b[39m] \u001b[39mand\u001b[39;00m \u001b[39mnot\u001b[39;00m np\u001b[39m.\u001b[39misfinite(a)\u001b[39m.\u001b[39mall():\n\u001b[1;32m--> 628\u001b[0m     \u001b[39mraise\u001b[39;00m \u001b[39mValueError\u001b[39;00m(\n\u001b[0;32m    629\u001b[0m         \u001b[39m\"\u001b[39m\u001b[39marray must not contain infs or NaNs\u001b[39m\u001b[39m\"\u001b[39m)\n\u001b[0;32m    630\u001b[0m \u001b[39mreturn\u001b[39;00m a\n",
      "\u001b[1;31mValueError\u001b[0m: array must not contain infs or NaNs",
      "\nDuring handling of the above exception, another exception occurred:\n",
      "\u001b[1;31mValueError\u001b[0m                                Traceback (most recent call last)",
      "\u001b[1;32mc:\\Users\\David\\Documents\\TU_Cloud_privat\\Projects\\California_Housing_Pymc\\spatiotemporal-modeling-pymc\\notebooks\\pymc_modeling.ipynb Cell 28\u001b[0m line \u001b[0;36m2\n\u001b[0;32m      <a href='vscode-notebook-cell:/c%3A/Users/David/Documents/TU_Cloud_privat/Projects/California_Housing_Pymc/spatiotemporal-modeling-pymc/notebooks/pymc_modeling.ipynb#X50sZmlsZQ%3D%3D?line=0'>1</a>\u001b[0m \u001b[39mwith\u001b[39;00m blr_partial_pooling_gp:\n\u001b[1;32m----> <a href='vscode-notebook-cell:/c%3A/Users/David/Documents/TU_Cloud_privat/Projects/California_Housing_Pymc/spatiotemporal-modeling-pymc/notebooks/pymc_modeling.ipynb#X50sZmlsZQ%3D%3D?line=1'>2</a>\u001b[0m     idata_gp \u001b[39m=\u001b[39m pm\u001b[39m.\u001b[39;49msample()\n",
      "File \u001b[1;32mc:\\Users\\David\\anaconda3\\envs\\pymc_env\\Lib\\site-packages\\pymc\\sampling\\mcmc.py:461\u001b[0m, in \u001b[0;36msample\u001b[1;34m(draws, step, init, n_init, initvals, trace, chains, cores, tune, progressbar, model, random_seed, discard_tuned_samples, compute_convergence_checks, callback, jitter_max_retries, return_inferencedata, keep_warning_stat, idata_kwargs, mp_ctx, **kwargs)\u001b[0m\n\u001b[0;32m    459\u001b[0m         [kwargs\u001b[39m.\u001b[39msetdefault(k, v) \u001b[39mfor\u001b[39;00m k, v \u001b[39min\u001b[39;00m nuts_kwargs\u001b[39m.\u001b[39mitems()]\n\u001b[0;32m    460\u001b[0m     _log\u001b[39m.\u001b[39minfo(\u001b[39m\"\u001b[39m\u001b[39mAuto-assigning NUTS sampler...\u001b[39m\u001b[39m\"\u001b[39m)\n\u001b[1;32m--> 461\u001b[0m     initial_points, step \u001b[39m=\u001b[39m init_nuts(\n\u001b[0;32m    462\u001b[0m         init\u001b[39m=\u001b[39;49minit,\n\u001b[0;32m    463\u001b[0m         chains\u001b[39m=\u001b[39;49mchains,\n\u001b[0;32m    464\u001b[0m         n_init\u001b[39m=\u001b[39;49mn_init,\n\u001b[0;32m    465\u001b[0m         model\u001b[39m=\u001b[39;49mmodel,\n\u001b[0;32m    466\u001b[0m         random_seed\u001b[39m=\u001b[39;49mrandom_seed_list,\n\u001b[0;32m    467\u001b[0m         progressbar\u001b[39m=\u001b[39;49mprogressbar,\n\u001b[0;32m    468\u001b[0m         jitter_max_retries\u001b[39m=\u001b[39;49mjitter_max_retries,\n\u001b[0;32m    469\u001b[0m         tune\u001b[39m=\u001b[39;49mtune,\n\u001b[0;32m    470\u001b[0m         initvals\u001b[39m=\u001b[39;49minitvals,\n\u001b[0;32m    471\u001b[0m         \u001b[39m*\u001b[39;49m\u001b[39m*\u001b[39;49mkwargs,\n\u001b[0;32m    472\u001b[0m     )\n\u001b[0;32m    474\u001b[0m \u001b[39mif\u001b[39;00m initial_points \u001b[39mis\u001b[39;00m \u001b[39mNone\u001b[39;00m:\n\u001b[0;32m    475\u001b[0m     \u001b[39m# Time to draw/evaluate numeric start points for each chain.\u001b[39;00m\n\u001b[0;32m    476\u001b[0m     ipfns \u001b[39m=\u001b[39m make_initial_point_fns_per_chain(\n\u001b[0;32m    477\u001b[0m         model\u001b[39m=\u001b[39mmodel,\n\u001b[0;32m    478\u001b[0m         overrides\u001b[39m=\u001b[39minitvals,\n\u001b[0;32m    479\u001b[0m         jitter_rvs\u001b[39m=\u001b[39m\u001b[39mset\u001b[39m(),\n\u001b[0;32m    480\u001b[0m         chains\u001b[39m=\u001b[39mchains,\n\u001b[0;32m    481\u001b[0m     )\n",
      "File \u001b[1;32mc:\\Users\\David\\anaconda3\\envs\\pymc_env\\Lib\\site-packages\\pymc\\sampling\\mcmc.py:1089\u001b[0m, in \u001b[0;36minit_nuts\u001b[1;34m(init, chains, n_init, model, random_seed, progressbar, jitter_max_retries, tune, initvals, **kwargs)\u001b[0m\n\u001b[0;32m   1082\u001b[0m _log\u001b[39m.\u001b[39minfo(\u001b[39mf\u001b[39m\u001b[39m\"\u001b[39m\u001b[39mInitializing NUTS using \u001b[39m\u001b[39m{\u001b[39;00minit\u001b[39m}\u001b[39;00m\u001b[39m...\u001b[39m\u001b[39m\"\u001b[39m)\n\u001b[0;32m   1084\u001b[0m cb \u001b[39m=\u001b[39m [\n\u001b[0;32m   1085\u001b[0m     pm\u001b[39m.\u001b[39mcallbacks\u001b[39m.\u001b[39mCheckParametersConvergence(tolerance\u001b[39m=\u001b[39m\u001b[39m1e-2\u001b[39m, diff\u001b[39m=\u001b[39m\u001b[39m\"\u001b[39m\u001b[39mabsolute\u001b[39m\u001b[39m\"\u001b[39m),\n\u001b[0;32m   1086\u001b[0m     pm\u001b[39m.\u001b[39mcallbacks\u001b[39m.\u001b[39mCheckParametersConvergence(tolerance\u001b[39m=\u001b[39m\u001b[39m1e-2\u001b[39m, diff\u001b[39m=\u001b[39m\u001b[39m\"\u001b[39m\u001b[39mrelative\u001b[39m\u001b[39m\"\u001b[39m),\n\u001b[0;32m   1087\u001b[0m ]\n\u001b[1;32m-> 1089\u001b[0m initial_points \u001b[39m=\u001b[39m _init_jitter(\n\u001b[0;32m   1090\u001b[0m     model,\n\u001b[0;32m   1091\u001b[0m     initvals,\n\u001b[0;32m   1092\u001b[0m     seeds\u001b[39m=\u001b[39;49mrandom_seed_list,\n\u001b[0;32m   1093\u001b[0m     jitter\u001b[39m=\u001b[39;49m\u001b[39m\"\u001b[39;49m\u001b[39mjitter\u001b[39;49m\u001b[39m\"\u001b[39;49m \u001b[39min\u001b[39;49;00m init,\n\u001b[0;32m   1094\u001b[0m     jitter_max_retries\u001b[39m=\u001b[39;49mjitter_max_retries,\n\u001b[0;32m   1095\u001b[0m )\n\u001b[0;32m   1097\u001b[0m apoints \u001b[39m=\u001b[39m [DictToArrayBijection\u001b[39m.\u001b[39mmap(point) \u001b[39mfor\u001b[39;00m point \u001b[39min\u001b[39;00m initial_points]\n\u001b[0;32m   1098\u001b[0m apoints_data \u001b[39m=\u001b[39m [apoint\u001b[39m.\u001b[39mdata \u001b[39mfor\u001b[39;00m apoint \u001b[39min\u001b[39;00m apoints]\n",
      "File \u001b[1;32mc:\\Users\\David\\anaconda3\\envs\\pymc_env\\Lib\\site-packages\\pymc\\sampling\\mcmc.py:983\u001b[0m, in \u001b[0;36m_init_jitter\u001b[1;34m(model, initvals, seeds, jitter, jitter_max_retries)\u001b[0m\n\u001b[0;32m    981\u001b[0m \u001b[39mif\u001b[39;00m i \u001b[39m<\u001b[39m jitter_max_retries:\n\u001b[0;32m    982\u001b[0m     \u001b[39mtry\u001b[39;00m:\n\u001b[1;32m--> 983\u001b[0m         model\u001b[39m.\u001b[39;49mcheck_start_vals(point)\n\u001b[0;32m    984\u001b[0m     \u001b[39mexcept\u001b[39;00m SamplingError:\n\u001b[0;32m    985\u001b[0m         \u001b[39m# Retry with a new seed\u001b[39;00m\n\u001b[0;32m    986\u001b[0m         seed \u001b[39m=\u001b[39m rng\u001b[39m.\u001b[39mrandint(\u001b[39m2\u001b[39m\u001b[39m*\u001b[39m\u001b[39m*\u001b[39m\u001b[39m30\u001b[39m, dtype\u001b[39m=\u001b[39mnp\u001b[39m.\u001b[39mint64)\n",
      "File \u001b[1;32mc:\\Users\\David\\anaconda3\\envs\\pymc_env\\Lib\\site-packages\\pymc\\model.py:1765\u001b[0m, in \u001b[0;36mModel.check_start_vals\u001b[1;34m(self, start)\u001b[0m\n\u001b[0;32m   1759\u001b[0m     valid_keys \u001b[39m=\u001b[39m \u001b[39m\"\u001b[39m\u001b[39m, \u001b[39m\u001b[39m\"\u001b[39m\u001b[39m.\u001b[39mjoin(value_names_set)\n\u001b[0;32m   1760\u001b[0m     \u001b[39mraise\u001b[39;00m \u001b[39mKeyError\u001b[39;00m(\n\u001b[0;32m   1761\u001b[0m         \u001b[39m\"\u001b[39m\u001b[39mSome start parameters do not appear in the model!\u001b[39m\u001b[39m\\n\u001b[39;00m\u001b[39m\"\u001b[39m\n\u001b[0;32m   1762\u001b[0m         \u001b[39mf\u001b[39m\u001b[39m\"\u001b[39m\u001b[39mValid keys are: \u001b[39m\u001b[39m{\u001b[39;00mvalid_keys\u001b[39m}\u001b[39;00m\u001b[39m, but \u001b[39m\u001b[39m{\u001b[39;00mextra_keys\u001b[39m}\u001b[39;00m\u001b[39m was supplied\u001b[39m\u001b[39m\"\u001b[39m\n\u001b[0;32m   1763\u001b[0m     )\n\u001b[1;32m-> 1765\u001b[0m initial_eval \u001b[39m=\u001b[39m \u001b[39mself\u001b[39;49m\u001b[39m.\u001b[39;49mpoint_logps(point\u001b[39m=\u001b[39;49melem)\n\u001b[0;32m   1767\u001b[0m \u001b[39mif\u001b[39;00m \u001b[39mnot\u001b[39;00m \u001b[39mall\u001b[39m(np\u001b[39m.\u001b[39misfinite(v) \u001b[39mfor\u001b[39;00m v \u001b[39min\u001b[39;00m initial_eval\u001b[39m.\u001b[39mvalues()):\n\u001b[0;32m   1768\u001b[0m     \u001b[39mraise\u001b[39;00m SamplingError(\n\u001b[0;32m   1769\u001b[0m         \u001b[39m\"\u001b[39m\u001b[39mInitial evaluation of model at starting point failed!\u001b[39m\u001b[39m\\n\u001b[39;00m\u001b[39m\"\u001b[39m\n\u001b[0;32m   1770\u001b[0m         \u001b[39mf\u001b[39m\u001b[39m\"\u001b[39m\u001b[39mStarting values:\u001b[39m\u001b[39m\\n\u001b[39;00m\u001b[39m{\u001b[39;00melem\u001b[39m}\u001b[39;00m\u001b[39m\\n\u001b[39;00m\u001b[39m\\n\u001b[39;00m\u001b[39m\"\u001b[39m\n\u001b[0;32m   1771\u001b[0m         \u001b[39mf\u001b[39m\u001b[39m\"\u001b[39m\u001b[39mInitial evaluation results:\u001b[39m\u001b[39m\\n\u001b[39;00m\u001b[39m{\u001b[39;00minitial_eval\u001b[39m}\u001b[39;00m\u001b[39m\"\u001b[39m\n\u001b[0;32m   1772\u001b[0m     )\n",
      "File \u001b[1;32mc:\\Users\\David\\anaconda3\\envs\\pymc_env\\Lib\\site-packages\\pymc\\model.py:1799\u001b[0m, in \u001b[0;36mModel.point_logps\u001b[1;34m(self, point, round_vals)\u001b[0m\n\u001b[0;32m   1793\u001b[0m factors \u001b[39m=\u001b[39m \u001b[39mself\u001b[39m\u001b[39m.\u001b[39mbasic_RVs \u001b[39m+\u001b[39m \u001b[39mself\u001b[39m\u001b[39m.\u001b[39mpotentials\n\u001b[0;32m   1794\u001b[0m factor_logps_fn \u001b[39m=\u001b[39m [at\u001b[39m.\u001b[39msum(factor) \u001b[39mfor\u001b[39;00m factor \u001b[39min\u001b[39;00m \u001b[39mself\u001b[39m\u001b[39m.\u001b[39mlogp(factors, \u001b[39msum\u001b[39m\u001b[39m=\u001b[39m\u001b[39mFalse\u001b[39;00m)]\n\u001b[0;32m   1795\u001b[0m \u001b[39mreturn\u001b[39;00m {\n\u001b[0;32m   1796\u001b[0m     factor\u001b[39m.\u001b[39mname: np\u001b[39m.\u001b[39mround(np\u001b[39m.\u001b[39masarray(factor_logp), round_vals)\n\u001b[0;32m   1797\u001b[0m     \u001b[39mfor\u001b[39;00m factor, factor_logp \u001b[39min\u001b[39;00m \u001b[39mzip\u001b[39m(\n\u001b[0;32m   1798\u001b[0m         factors,\n\u001b[1;32m-> 1799\u001b[0m         \u001b[39mself\u001b[39;49m\u001b[39m.\u001b[39;49mcompile_fn(factor_logps_fn)(point),\n\u001b[0;32m   1800\u001b[0m     )\n\u001b[0;32m   1801\u001b[0m }\n",
      "File \u001b[1;32mc:\\Users\\David\\anaconda3\\envs\\pymc_env\\Lib\\site-packages\\pymc\\pytensorf.py:764\u001b[0m, in \u001b[0;36mPointFunc.__call__\u001b[1;34m(self, state)\u001b[0m\n\u001b[0;32m    763\u001b[0m \u001b[39mdef\u001b[39;00m \u001b[39m__call__\u001b[39m(\u001b[39mself\u001b[39m, state):\n\u001b[1;32m--> 764\u001b[0m     \u001b[39mreturn\u001b[39;00m \u001b[39mself\u001b[39;49m\u001b[39m.\u001b[39;49mf(\u001b[39m*\u001b[39;49m\u001b[39m*\u001b[39;49mstate)\n",
      "File \u001b[1;32mc:\\Users\\David\\anaconda3\\envs\\pymc_env\\Lib\\site-packages\\pytensor\\compile\\function\\types.py:985\u001b[0m, in \u001b[0;36mFunction.__call__\u001b[1;34m(self, *args, **kwargs)\u001b[0m\n\u001b[0;32m    983\u001b[0m     \u001b[39mif\u001b[39;00m \u001b[39mhasattr\u001b[39m(\u001b[39mself\u001b[39m\u001b[39m.\u001b[39mvm, \u001b[39m\"\u001b[39m\u001b[39mthunks\u001b[39m\u001b[39m\"\u001b[39m):\n\u001b[0;32m    984\u001b[0m         thunk \u001b[39m=\u001b[39m \u001b[39mself\u001b[39m\u001b[39m.\u001b[39mvm\u001b[39m.\u001b[39mthunks[\u001b[39mself\u001b[39m\u001b[39m.\u001b[39mvm\u001b[39m.\u001b[39mposition_of_error]\n\u001b[1;32m--> 985\u001b[0m     raise_with_op(\n\u001b[0;32m    986\u001b[0m         \u001b[39mself\u001b[39;49m\u001b[39m.\u001b[39;49mmaker\u001b[39m.\u001b[39;49mfgraph,\n\u001b[0;32m    987\u001b[0m         node\u001b[39m=\u001b[39;49m\u001b[39mself\u001b[39;49m\u001b[39m.\u001b[39;49mvm\u001b[39m.\u001b[39;49mnodes[\u001b[39mself\u001b[39;49m\u001b[39m.\u001b[39;49mvm\u001b[39m.\u001b[39;49mposition_of_error],\n\u001b[0;32m    988\u001b[0m         thunk\u001b[39m=\u001b[39;49mthunk,\n\u001b[0;32m    989\u001b[0m         storage_map\u001b[39m=\u001b[39;49m\u001b[39mgetattr\u001b[39;49m(\u001b[39mself\u001b[39;49m\u001b[39m.\u001b[39;49mvm, \u001b[39m\"\u001b[39;49m\u001b[39mstorage_map\u001b[39;49m\u001b[39m\"\u001b[39;49m, \u001b[39mNone\u001b[39;49;00m),\n\u001b[0;32m    990\u001b[0m     )\n\u001b[0;32m    991\u001b[0m \u001b[39melse\u001b[39;00m:\n\u001b[0;32m    992\u001b[0m     \u001b[39m# old-style linkers raise their own exceptions\u001b[39;00m\n\u001b[0;32m    993\u001b[0m     \u001b[39mraise\u001b[39;00m\n",
      "File \u001b[1;32mc:\\Users\\David\\anaconda3\\envs\\pymc_env\\Lib\\site-packages\\pytensor\\link\\utils.py:536\u001b[0m, in \u001b[0;36mraise_with_op\u001b[1;34m(fgraph, node, thunk, exc_info, storage_map)\u001b[0m\n\u001b[0;32m    531\u001b[0m     warnings\u001b[39m.\u001b[39mwarn(\n\u001b[0;32m    532\u001b[0m         \u001b[39mf\u001b[39m\u001b[39m\"\u001b[39m\u001b[39m{\u001b[39;00mexc_type\u001b[39m}\u001b[39;00m\u001b[39m error does not allow us to add an extra error message\u001b[39m\u001b[39m\"\u001b[39m\n\u001b[0;32m    533\u001b[0m     )\n\u001b[0;32m    534\u001b[0m     \u001b[39m# Some exception need extra parameter in inputs. So forget the\u001b[39;00m\n\u001b[0;32m    535\u001b[0m     \u001b[39m# extra long error message in that case.\u001b[39;00m\n\u001b[1;32m--> 536\u001b[0m \u001b[39mraise\u001b[39;00m exc_value\u001b[39m.\u001b[39mwith_traceback(exc_trace)\n",
      "File \u001b[1;32mc:\\Users\\David\\anaconda3\\envs\\pymc_env\\Lib\\site-packages\\pytensor\\compile\\function\\types.py:972\u001b[0m, in \u001b[0;36mFunction.__call__\u001b[1;34m(self, *args, **kwargs)\u001b[0m\n\u001b[0;32m    969\u001b[0m t0_fn \u001b[39m=\u001b[39m time\u001b[39m.\u001b[39mperf_counter()\n\u001b[0;32m    970\u001b[0m \u001b[39mtry\u001b[39;00m:\n\u001b[0;32m    971\u001b[0m     outputs \u001b[39m=\u001b[39m (\n\u001b[1;32m--> 972\u001b[0m         \u001b[39mself\u001b[39;49m\u001b[39m.\u001b[39;49mvm()\n\u001b[0;32m    973\u001b[0m         \u001b[39mif\u001b[39;00m output_subset \u001b[39mis\u001b[39;00m \u001b[39mNone\u001b[39;00m\n\u001b[0;32m    974\u001b[0m         \u001b[39melse\u001b[39;00m \u001b[39mself\u001b[39m\u001b[39m.\u001b[39mvm(output_subset\u001b[39m=\u001b[39moutput_subset)\n\u001b[0;32m    975\u001b[0m     )\n\u001b[0;32m    976\u001b[0m \u001b[39mexcept\u001b[39;00m \u001b[39mException\u001b[39;00m:\n\u001b[0;32m    977\u001b[0m     restore_defaults()\n",
      "File \u001b[1;32mc:\\Users\\David\\anaconda3\\envs\\pymc_env\\Lib\\site-packages\\pytensor\\graph\\op.py:544\u001b[0m, in \u001b[0;36mOp.make_py_thunk.<locals>.rval\u001b[1;34m(p, i, o, n, params)\u001b[0m\n\u001b[0;32m    540\u001b[0m \u001b[39m@is_thunk_type\u001b[39m\n\u001b[0;32m    541\u001b[0m \u001b[39mdef\u001b[39;00m \u001b[39mrval\u001b[39m(\n\u001b[0;32m    542\u001b[0m     p\u001b[39m=\u001b[39mp, i\u001b[39m=\u001b[39mnode_input_storage, o\u001b[39m=\u001b[39mnode_output_storage, n\u001b[39m=\u001b[39mnode, params\u001b[39m=\u001b[39m\u001b[39mNone\u001b[39;00m\n\u001b[0;32m    543\u001b[0m ):\n\u001b[1;32m--> 544\u001b[0m     r \u001b[39m=\u001b[39m p(n, [x[\u001b[39m0\u001b[39;49m] \u001b[39mfor\u001b[39;49;00m x \u001b[39min\u001b[39;49;00m i], o)\n\u001b[0;32m    545\u001b[0m     \u001b[39mfor\u001b[39;00m o \u001b[39min\u001b[39;00m node\u001b[39m.\u001b[39moutputs:\n\u001b[0;32m    546\u001b[0m         compute_map[o][\u001b[39m0\u001b[39m] \u001b[39m=\u001b[39m \u001b[39mTrue\u001b[39;00m\n",
      "File \u001b[1;32mc:\\Users\\David\\anaconda3\\envs\\pymc_env\\Lib\\site-packages\\pytensor\\tensor\\slinalg.py:70\u001b[0m, in \u001b[0;36mCholesky.perform\u001b[1;34m(self, node, inputs, outputs)\u001b[0m\n\u001b[0;32m     68\u001b[0m z \u001b[39m=\u001b[39m outputs[\u001b[39m0\u001b[39m]\n\u001b[0;32m     69\u001b[0m \u001b[39mtry\u001b[39;00m:\n\u001b[1;32m---> 70\u001b[0m     z[\u001b[39m0\u001b[39m] \u001b[39m=\u001b[39m scipy\u001b[39m.\u001b[39;49mlinalg\u001b[39m.\u001b[39;49mcholesky(x, lower\u001b[39m=\u001b[39;49m\u001b[39mself\u001b[39;49m\u001b[39m.\u001b[39;49mlower)\u001b[39m.\u001b[39mastype(x\u001b[39m.\u001b[39mdtype)\n\u001b[0;32m     71\u001b[0m \u001b[39mexcept\u001b[39;00m scipy\u001b[39m.\u001b[39mlinalg\u001b[39m.\u001b[39mLinAlgError:\n\u001b[0;32m     72\u001b[0m     \u001b[39mif\u001b[39;00m \u001b[39mself\u001b[39m\u001b[39m.\u001b[39mon_error \u001b[39m==\u001b[39m \u001b[39m\"\u001b[39m\u001b[39mraise\u001b[39m\u001b[39m\"\u001b[39m:\n",
      "File \u001b[1;32mc:\\Users\\David\\anaconda3\\envs\\pymc_env\\Lib\\site-packages\\scipy\\linalg\\_decomp_cholesky.py:89\u001b[0m, in \u001b[0;36mcholesky\u001b[1;34m(a, lower, overwrite_a, check_finite)\u001b[0m\n\u001b[0;32m     45\u001b[0m \u001b[39mdef\u001b[39;00m \u001b[39mcholesky\u001b[39m(a, lower\u001b[39m=\u001b[39m\u001b[39mFalse\u001b[39;00m, overwrite_a\u001b[39m=\u001b[39m\u001b[39mFalse\u001b[39;00m, check_finite\u001b[39m=\u001b[39m\u001b[39mTrue\u001b[39;00m):\n\u001b[0;32m     46\u001b[0m \u001b[39m    \u001b[39m\u001b[39m\"\"\"\u001b[39;00m\n\u001b[0;32m     47\u001b[0m \u001b[39m    Compute the Cholesky decomposition of a matrix.\u001b[39;00m\n\u001b[0;32m     48\u001b[0m \n\u001b[1;32m   (...)\u001b[0m\n\u001b[0;32m     87\u001b[0m \n\u001b[0;32m     88\u001b[0m \u001b[39m    \"\"\"\u001b[39;00m\n\u001b[1;32m---> 89\u001b[0m     c, lower \u001b[39m=\u001b[39m _cholesky(a, lower\u001b[39m=\u001b[39;49mlower, overwrite_a\u001b[39m=\u001b[39;49moverwrite_a, clean\u001b[39m=\u001b[39;49m\u001b[39mTrue\u001b[39;49;00m,\n\u001b[0;32m     90\u001b[0m                          check_finite\u001b[39m=\u001b[39;49mcheck_finite)\n\u001b[0;32m     91\u001b[0m     \u001b[39mreturn\u001b[39;00m c\n",
      "File \u001b[1;32mc:\\Users\\David\\anaconda3\\envs\\pymc_env\\Lib\\site-packages\\scipy\\linalg\\_decomp_cholesky.py:17\u001b[0m, in \u001b[0;36m_cholesky\u001b[1;34m(a, lower, overwrite_a, clean, check_finite)\u001b[0m\n\u001b[0;32m     13\u001b[0m \u001b[39mdef\u001b[39;00m \u001b[39m_cholesky\u001b[39m(a, lower\u001b[39m=\u001b[39m\u001b[39mFalse\u001b[39;00m, overwrite_a\u001b[39m=\u001b[39m\u001b[39mFalse\u001b[39;00m, clean\u001b[39m=\u001b[39m\u001b[39mTrue\u001b[39;00m,\n\u001b[0;32m     14\u001b[0m               check_finite\u001b[39m=\u001b[39m\u001b[39mTrue\u001b[39;00m):\n\u001b[0;32m     15\u001b[0m \u001b[39m    \u001b[39m\u001b[39m\"\"\"Common code for cholesky() and cho_factor().\"\"\"\u001b[39;00m\n\u001b[1;32m---> 17\u001b[0m     a1 \u001b[39m=\u001b[39m asarray_chkfinite(a) \u001b[39mif\u001b[39;00m check_finite \u001b[39melse\u001b[39;00m asarray(a)\n\u001b[0;32m     18\u001b[0m     a1 \u001b[39m=\u001b[39m atleast_2d(a1)\n\u001b[0;32m     20\u001b[0m     \u001b[39m# Dimension check\u001b[39;00m\n",
      "File \u001b[1;32mc:\\Users\\David\\anaconda3\\envs\\pymc_env\\Lib\\site-packages\\numpy\\lib\\function_base.py:628\u001b[0m, in \u001b[0;36masarray_chkfinite\u001b[1;34m(a, dtype, order)\u001b[0m\n\u001b[0;32m    626\u001b[0m a \u001b[39m=\u001b[39m asarray(a, dtype\u001b[39m=\u001b[39mdtype, order\u001b[39m=\u001b[39morder)\n\u001b[0;32m    627\u001b[0m \u001b[39mif\u001b[39;00m a\u001b[39m.\u001b[39mdtype\u001b[39m.\u001b[39mchar \u001b[39min\u001b[39;00m typecodes[\u001b[39m'\u001b[39m\u001b[39mAllFloat\u001b[39m\u001b[39m'\u001b[39m] \u001b[39mand\u001b[39;00m \u001b[39mnot\u001b[39;00m np\u001b[39m.\u001b[39misfinite(a)\u001b[39m.\u001b[39mall():\n\u001b[1;32m--> 628\u001b[0m     \u001b[39mraise\u001b[39;00m \u001b[39mValueError\u001b[39;00m(\n\u001b[0;32m    629\u001b[0m         \u001b[39m\"\u001b[39m\u001b[39marray must not contain infs or NaNs\u001b[39m\u001b[39m\"\u001b[39m)\n\u001b[0;32m    630\u001b[0m \u001b[39mreturn\u001b[39;00m a\n",
      "\u001b[1;31mValueError\u001b[0m: array must not contain infs or NaNs\nApply node that caused the error: Cholesky{lower=True, destructive=False, on_error='raise'}(Elemwise{Composite{((exp((i0 * clip((i1 + i2 + i3), i4, i5))) * i6) + (i7 * i8))}}[(0, 1)].0)\nToposort index: 63\nInputs types: [TensorType(float64, (?, ?))]\nInputs shapes: [(49, 49)]\nInputs strides: [(392, 8)]\nInputs values: ['not shown']\nOutputs clients: [[CGemv{inplace}(AllocEmpty{dtype='float64'}.0, TensorConstant{1.0}, Cholesky{lower=True, destructive=False, on_error='raise'}.0, intercept_gp_rotated_, TensorConstant{0.0})]]\n\nBacktrace when the node is created (use PyTensor flag traceback__limit=N to make it longer):\n  File \"c:\\Users\\David\\anaconda3\\envs\\pymc_env\\Lib\\site-packages\\IPython\\core\\async_helpers.py\", line 129, in _pseudo_sync_runner\n    coro.send(None)\n  File \"c:\\Users\\David\\anaconda3\\envs\\pymc_env\\Lib\\site-packages\\IPython\\core\\interactiveshell.py\", line 3203, in run_cell_async\n    has_raised = await self.run_ast_nodes(code_ast.body, cell_name,\n  File \"c:\\Users\\David\\anaconda3\\envs\\pymc_env\\Lib\\site-packages\\IPython\\core\\interactiveshell.py\", line 3382, in run_ast_nodes\n    if await self.run_code(code, result, async_=asy):\n  File \"c:\\Users\\David\\anaconda3\\envs\\pymc_env\\Lib\\site-packages\\IPython\\core\\interactiveshell.py\", line 3442, in run_code\n    exec(code_obj, self.user_global_ns, self.user_ns)\n  File \"C:\\Users\\David\\AppData\\Local\\Temp;\\ipykernel_16692\\3283503627.py\", line 1, in <module>\n    blr_partial_pooling_gp = create_blr_partial_pooling_gp(x_train, y_train, coords, spatial_grouping_var=\"county_nr\", spatial_groups_coordinates=county_coordinates)\n  File \"c:\\Users\\David\\Documents\\TU_Cloud_privat\\Projects\\California_Housing_Pymc\\spatiotemporal-modeling-pymc\\notebooks\\../src\\models.py\", line 185, in create_blr_partial_pooling_gp\n    gp = latent.prior(\n  File \"c:\\Users\\David\\anaconda3\\envs\\pymc_env\\Lib\\site-packages\\pymc\\gp\\gp.py\", line 188, in prior\n    f = self._build_prior(name, X, reparameterize, jitter, **kwargs)\n  File \"c:\\Users\\David\\anaconda3\\envs\\pymc_env\\Lib\\site-packages\\pymc\\gp\\gp.py\", line 155, in _build_prior\n    f = pm.Deterministic(name, mu + cholesky(cov).dot(v), dims=kwargs.get(\"dims\", None))\n\nHINT: Use the PyTensor flag `exception_verbosity=high` for a debug print-out and storage map footprint of this Apply node."
     ]
    }
   ],
   "source": [
    "with blr_partial_pooling_gp:\n",
    "    idata_gp = pm.sample()"
   ]
  },
  {
   "cell_type": "code",
   "execution_count": null,
   "metadata": {},
   "outputs": [],
   "source": []
  }
 ],
 "metadata": {
  "kernelspec": {
   "display_name": "pymc_env",
   "language": "python",
   "name": "pymc_env"
  },
  "language_info": {
   "codemirror_mode": {
    "name": "ipython",
    "version": 3
   },
   "file_extension": ".py",
   "mimetype": "text/x-python",
   "name": "python",
   "nbconvert_exporter": "python",
   "pygments_lexer": "ipython3",
   "version": "3.11.0"
  }
 },
 "nbformat": 4,
 "nbformat_minor": 2
}
