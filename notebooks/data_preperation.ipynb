{
 "cells": [
  {
   "cell_type": "code",
   "execution_count": 1,
   "metadata": {},
   "outputs": [],
   "source": [
    "import geopandas as gpd\n",
    "from sklearn.datasets import fetch_california_housing"
   ]
  },
  {
   "cell_type": "code",
   "execution_count": 2,
   "metadata": {},
   "outputs": [
    {
     "name": "stderr",
     "output_type": "stream",
     "text": [
      "C:\\Users\\David\\AppData\\Local\\Temp;\\ipykernel_21004\\3477243187.py:6: UserWarning: Geometry is in a geographic CRS. Results from 'centroid' are likely incorrect. Use 'GeoSeries.to_crs()' to re-project geometries to a projected CRS before this operation.\n",
      "\n",
      "  california_counties[\"county_lon\"] = california_counties.centroid.x\n",
      "C:\\Users\\David\\AppData\\Local\\Temp;\\ipykernel_21004\\3477243187.py:7: UserWarning: Geometry is in a geographic CRS. Results from 'centroid' are likely incorrect. Use 'GeoSeries.to_crs()' to re-project geometries to a projected CRS before this operation.\n",
      "\n",
      "  california_counties[\"county_lat\"] = california_counties.centroid.y\n"
     ]
    }
   ],
   "source": [
    "# read in country shapefile\n",
    "path_to_california_counties = \"../data/tl_2019_06_cousub/tl_2019_06_cousub.shp\"\n",
    "california_counties = gpd.read_file(path_to_california_counties)\n",
    "\n",
    "# create columns storing coordinates of centroid of county\n",
    "california_counties[\"county_lon\"] = california_counties.centroid.x\n",
    "california_counties[\"county_lat\"] = california_counties.centroid.y"
   ]
  },
  {
   "cell_type": "code",
   "execution_count": 3,
   "metadata": {},
   "outputs": [],
   "source": [
    "# read in californian housing dataset and convert to geodataframe\n",
    "X, y = fetch_california_housing(return_X_y=True, as_frame=True)\n",
    "california_housing_ds_gdf = gpd.GeoDataFrame(X, geometry=gpd.points_from_xy(X.Longitude, X.Latitude), crs=\"EPSG:4326\")"
   ]
  },
  {
   "cell_type": "code",
   "execution_count": 4,
   "metadata": {},
   "outputs": [
    {
     "name": "stderr",
     "output_type": "stream",
     "text": [
      "c:\\Users\\David\\anaconda3\\envs\\pymc_env\\Lib\\site-packages\\geopandas\\geodataframe.py:2061: UserWarning: CRS mismatch between the CRS of left geometries and the CRS of right geometries.\n",
      "Use `to_crs()` to reproject one of the input geometries to match the CRS of the other.\n",
      "\n",
      "Left CRS: EPSG:4326\n",
      "Right CRS: GEOGCS[\"GCS_North_American_1983\",DATUM[\"D_North_Am ...\n",
      "\n",
      "  return geopandas.sjoin(left_df=self, right_df=df, *args, **kwargs)\n"
     ]
    }
   ],
   "source": [
    "california_housing_ds_gdf_join = california_housing_ds_gdf.sjoin(california_counties.loc[:, [\"NAME\", \"county_lon\", \"county_lat\", \"geometry\"]], how=\"left\")"
   ]
  },
  {
   "cell_type": "code",
   "execution_count": 10,
   "metadata": {},
   "outputs": [],
   "source": [
    "columns_of_interest = [\"MedInc\", \"HouseAge\", \"AveRooms\", \"AveBedrms\", \"Population\", \"AveOccup\", \"NAME\", \"county_lon\", \"county_lat\"]\n",
    "california_housing_final = california_housing_ds_gdf_join.loc[:, columns_of_interest]\n",
    "california_housing_final.rename(columns={\"NAME\": \"county\"}, inplace=True)\n",
    "california_housing_final[\"median_house_value\"] = y \n"
   ]
  },
  {
   "cell_type": "code",
   "execution_count": 13,
   "metadata": {},
   "outputs": [],
   "source": [
    "california_housing_final.to_csv(\"../data/california_housing_pre.csv\")\n"
   ]
  },
  {
   "cell_type": "code",
   "execution_count": null,
   "metadata": {},
   "outputs": [],
   "source": []
  }
 ],
 "metadata": {
  "kernelspec": {
   "display_name": "pymc_env",
   "language": "python",
   "name": "python3"
  },
  "language_info": {
   "codemirror_mode": {
    "name": "ipython",
    "version": 3
   },
   "file_extension": ".py",
   "mimetype": "text/x-python",
   "name": "python",
   "nbconvert_exporter": "python",
   "pygments_lexer": "ipython3",
   "version": "3.11.0"
  }
 },
 "nbformat": 4,
 "nbformat_minor": 2
}
